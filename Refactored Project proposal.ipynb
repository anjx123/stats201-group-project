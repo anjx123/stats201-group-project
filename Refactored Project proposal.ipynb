{
 "cells": [
  {
   "cell_type": "markdown",
   "id": "810b9068-94c8-4399-88c5-71be1c02394e",
   "metadata": {},
   "source": [
    "# STAT 201 Group Proposal Group 27\n",
    "___________________________________________"
   ]
  },
  {
   "cell_type": "markdown",
   "id": "15876bbe-ac75-4cf7-a07f-d95e09436ae4",
   "metadata": {},
   "source": [
    "# Title: Relationships on Academic Performance"
   ]
  },
  {
   "cell_type": "markdown",
   "id": "677da07e-8248-4393-a62e-35f188531018",
   "metadata": {},
   "source": [
    "## Introduction:\n",
    "\n",
    "Add dataset here\n"
   ]
  },
  {
   "cell_type": "markdown",
   "id": "74b658bc-1c23-4c10-95c1-a9dc43dfc23e",
   "metadata": {},
   "source": [
    "### Preliminary Results\n"
   ]
  },
  {
   "cell_type": "code",
   "execution_count": 26,
   "id": "9b432a2e-b116-4e37-8030-12a3dd8ed10b",
   "metadata": {
    "tags": []
   },
   "outputs": [],
   "source": [
    "# Libraries required for the proposal\n",
    "library(cowplot)\n",
    "library(datateachr)\n",
    "library(digest)\n",
    "library(infer)\n",
    "library(repr)\n",
    "library(taxyvr)\n",
    "library(tidyverse) \n",
    "library(tidymodels)\n",
    "library(datasets)\n",
    "library(rvest)\n",
    "library(tibble) \n",
    "library(httr)\n"
   ]
  },
  {
   "cell_type": "code",
   "execution_count": null,
   "id": "78cafa2e-5f4d-4338-95f1-91f42a00da4b",
   "metadata": {
    "tags": []
   },
   "outputs": [],
   "source": [
    "student_gpa <- read_csv('https://github.com/anjx123/stats201-group-project/blob/Dataset-Refactor/student_prediction.csv')\n",
    "head(student_gpa) # First 6 data"
   ]
  },
  {
   "cell_type": "code",
   "execution_count": 14,
   "id": "58e03c06-500c-4555-b20c-5cbb14b941bd",
   "metadata": {
    "tags": []
   },
   "outputs": [
    {
     "data": {
      "text/html": [
       "<table class=\"dataframe\">\n",
       "<caption>A tibble: 1 × 2</caption>\n",
       "<thead>\n",
       "\t<tr><th scope=col>PartnerCount</th><th scope=col>NoPartnerCount</th></tr>\n",
       "\t<tr><th scope=col>&lt;int&gt;</th><th scope=col>&lt;int&gt;</th></tr>\n",
       "</thead>\n",
       "<tbody>\n",
       "\t<tr><td>61</td><td>84</td></tr>\n",
       "</tbody>\n",
       "</table>\n"
      ],
      "text/latex": [
       "A tibble: 1 × 2\n",
       "\\begin{tabular}{ll}\n",
       " PartnerCount & NoPartnerCount\\\\\n",
       " <int> & <int>\\\\\n",
       "\\hline\n",
       "\t 61 & 84\\\\\n",
       "\\end{tabular}\n"
      ],
      "text/markdown": [
       "\n",
       "A tibble: 1 × 2\n",
       "\n",
       "| PartnerCount &lt;int&gt; | NoPartnerCount &lt;int&gt; |\n",
       "|---|---|\n",
       "| 61 | 84 |\n",
       "\n"
      ],
      "text/plain": [
       "  PartnerCount NoPartnerCount\n",
       "1 61           84            "
      ]
     },
     "metadata": {},
     "output_type": "display_data"
    }
   ],
   "source": [
    "student_gpa |> summarize(PartnerCount = sum(PARTNER == 1),\n",
    "                       NoPartnerCount = sum(PARTNER == 2))"
   ]
  },
  {
   "cell_type": "markdown",
   "id": "6fdd874a-a9a8-4b98-9ef4-5c67e0f9518f",
   "metadata": {},
   "source": [
    "### Data wrangling\n",
    "\n",
    "Whether a person has a partner or not is represented by 1- for Yes and 2- for No. We tidy this up so that it is much more clear to read and understand. In the process, we select the two columns that we are interested in, whether an individual has a partner, and their cumulative GPA.\n",
    "We can then group these students by whether they have a partner or not, and calculate the sample mean of their cumulative GPA.\n"
   ]
  },
  {
   "cell_type": "code",
   "execution_count": 23,
   "id": "1ed8f6b2-2752-442d-a744-653d9e53d1ee",
   "metadata": {
    "tags": []
   },
   "outputs": [
    {
     "data": {
      "text/html": [
       "<table class=\"dataframe\">\n",
       "<caption>A tibble: 6 × 3</caption>\n",
       "<thead>\n",
       "\t<tr><th scope=col>STUDENTID</th><th scope=col>PARTNER</th><th scope=col>CUML_GPA</th></tr>\n",
       "\t<tr><th scope=col>&lt;chr&gt;</th><th scope=col>&lt;chr&gt;</th><th scope=col>&lt;dbl&gt;</th></tr>\n",
       "</thead>\n",
       "<tbody>\n",
       "\t<tr><td>STUDENT1</td><td>No </td><td>1</td></tr>\n",
       "\t<tr><td>STUDENT2</td><td>No </td><td>2</td></tr>\n",
       "\t<tr><td>STUDENT3</td><td>No </td><td>2</td></tr>\n",
       "\t<tr><td>STUDENT4</td><td>Yes</td><td>3</td></tr>\n",
       "\t<tr><td>STUDENT5</td><td>Yes</td><td>2</td></tr>\n",
       "\t<tr><td>STUDENT6</td><td>No </td><td>4</td></tr>\n",
       "</tbody>\n",
       "</table>\n"
      ],
      "text/latex": [
       "A tibble: 6 × 3\n",
       "\\begin{tabular}{lll}\n",
       " STUDENTID & PARTNER & CUML\\_GPA\\\\\n",
       " <chr> & <chr> & <dbl>\\\\\n",
       "\\hline\n",
       "\t STUDENT1 & No  & 1\\\\\n",
       "\t STUDENT2 & No  & 2\\\\\n",
       "\t STUDENT3 & No  & 2\\\\\n",
       "\t STUDENT4 & Yes & 3\\\\\n",
       "\t STUDENT5 & Yes & 2\\\\\n",
       "\t STUDENT6 & No  & 4\\\\\n",
       "\\end{tabular}\n"
      ],
      "text/markdown": [
       "\n",
       "A tibble: 6 × 3\n",
       "\n",
       "| STUDENTID &lt;chr&gt; | PARTNER &lt;chr&gt; | CUML_GPA &lt;dbl&gt; |\n",
       "|---|---|---|\n",
       "| STUDENT1 | No  | 1 |\n",
       "| STUDENT2 | No  | 2 |\n",
       "| STUDENT3 | No  | 2 |\n",
       "| STUDENT4 | Yes | 3 |\n",
       "| STUDENT5 | Yes | 2 |\n",
       "| STUDENT6 | No  | 4 |\n",
       "\n"
      ],
      "text/plain": [
       "  STUDENTID PARTNER CUML_GPA\n",
       "1 STUDENT1  No      1       \n",
       "2 STUDENT2  No      2       \n",
       "3 STUDENT3  No      2       \n",
       "4 STUDENT4  Yes     3       \n",
       "5 STUDENT5  Yes     2       \n",
       "6 STUDENT6  No      4       "
      ]
     },
     "metadata": {},
     "output_type": "display_data"
    }
   ],
   "source": [
    "partner_data <- student_gpa |> select(STUDENTID, PARTNER, CUML_GPA) |> mutate(PARTNER = recode(PARTNER, '1' = \"Yes\", '2' = \"No\"))\n",
    "head(partner_data)"
   ]
  },
  {
   "cell_type": "code",
   "execution_count": 22,
   "id": "6953ce2b-c14c-4468-8f6d-0a75f411defb",
   "metadata": {
    "tags": []
   },
   "outputs": [
    {
     "data": {
      "text/html": [
       "<table class=\"dataframe\">\n",
       "<caption>A tibble: 2 × 2</caption>\n",
       "<thead>\n",
       "\t<tr><th scope=col>PARTNER</th><th scope=col>GPA</th></tr>\n",
       "\t<tr><th scope=col>&lt;chr&gt;</th><th scope=col>&lt;dbl&gt;</th></tr>\n",
       "</thead>\n",
       "<tbody>\n",
       "\t<tr><td>No </td><td>3.059524</td></tr>\n",
       "\t<tr><td>Yes</td><td>3.213115</td></tr>\n",
       "</tbody>\n",
       "</table>\n"
      ],
      "text/latex": [
       "A tibble: 2 × 2\n",
       "\\begin{tabular}{ll}\n",
       " PARTNER & GPA\\\\\n",
       " <chr> & <dbl>\\\\\n",
       "\\hline\n",
       "\t No  & 3.059524\\\\\n",
       "\t Yes & 3.213115\\\\\n",
       "\\end{tabular}\n"
      ],
      "text/markdown": [
       "\n",
       "A tibble: 2 × 2\n",
       "\n",
       "| PARTNER &lt;chr&gt; | GPA &lt;dbl&gt; |\n",
       "|---|---|\n",
       "| No  | 3.059524 |\n",
       "| Yes | 3.213115 |\n",
       "\n"
      ],
      "text/plain": [
       "  PARTNER GPA     \n",
       "1 No      3.059524\n",
       "2 Yes     3.213115"
      ]
     },
     "metadata": {},
     "output_type": "display_data"
    }
   ],
   "source": [
    "mean_gpas <- partner_data |> group_by(PARTNER) |> summarize(GPA = mean(CUML_GPA))\n",
    "head(mean_gpas)\n"
   ]
  },
  {
   "cell_type": "code",
   "execution_count": null,
   "id": "b95fea12-57a5-4e31-b441-dca09edbb1f0",
   "metadata": {},
   "outputs": [],
   "source": []
  },
  {
   "cell_type": "markdown",
   "id": "fc397e0a-4bec-42c8-b762-c13fdae6ac2d",
   "metadata": {},
   "source": []
  },
  {
   "cell_type": "markdown",
   "id": "c4ee5d08-6c05-453e-817d-b0cdb02faf79",
   "metadata": {},
   "source": [
    "### Methods: Plan"
   ]
  },
  {
   "cell_type": "markdown",
   "id": "b26750d9-4a46-492e-af9c-d3be726dedba",
   "metadata": {},
   "source": [
    "### References"
   ]
  }
 ],
 "metadata": {
  "kernelspec": {
   "display_name": "R",
   "language": "R",
   "name": "ir"
  },
  "language_info": {
   "codemirror_mode": "r",
   "file_extension": ".r",
   "mimetype": "text/x-r-source",
   "name": "R",
   "pygments_lexer": "r",
   "version": "4.2.3"
  }
 },
 "nbformat": 4,
 "nbformat_minor": 5
}
