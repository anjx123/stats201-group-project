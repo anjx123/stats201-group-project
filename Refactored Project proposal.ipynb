{
 "cells": [
  {
   "cell_type": "code",
   "execution_count": 1,
   "id": "2849bffb-d44e-4632-8aa4-de57c485558d",
   "metadata": {
    "tags": []
   },
   "outputs": [
    {
     "name": "stderr",
     "output_type": "stream",
     "text": [
      "── \u001b[1mAttaching core tidyverse packages\u001b[22m ──────────────────────── tidyverse 2.0.0 ──\n",
      "\u001b[32m✔\u001b[39m \u001b[34mdplyr    \u001b[39m 1.1.3     \u001b[32m✔\u001b[39m \u001b[34mreadr    \u001b[39m 2.1.4\n",
      "\u001b[32m✔\u001b[39m \u001b[34mforcats  \u001b[39m 1.0.0     \u001b[32m✔\u001b[39m \u001b[34mstringr  \u001b[39m 1.5.0\n",
      "\u001b[32m✔\u001b[39m \u001b[34mggplot2  \u001b[39m 3.4.3     \u001b[32m✔\u001b[39m \u001b[34mtibble   \u001b[39m 3.2.1\n",
      "\u001b[32m✔\u001b[39m \u001b[34mlubridate\u001b[39m 1.9.2     \u001b[32m✔\u001b[39m \u001b[34mtidyr    \u001b[39m 1.3.0\n",
      "\u001b[32m✔\u001b[39m \u001b[34mpurrr    \u001b[39m 1.0.1     \n",
      "── \u001b[1mConflicts\u001b[22m ────────────────────────────────────────── tidyverse_conflicts() ──\n",
      "\u001b[31m✖\u001b[39m \u001b[34mdplyr\u001b[39m::\u001b[32mfilter()\u001b[39m    masks \u001b[34mstats\u001b[39m::filter()\n",
      "\u001b[31m✖\u001b[39m \u001b[34mdplyr\u001b[39m::\u001b[32mlag()\u001b[39m       masks \u001b[34mstats\u001b[39m::lag()\n",
      "\u001b[31m✖\u001b[39m \u001b[34mlubridate\u001b[39m::\u001b[32mstamp()\u001b[39m masks \u001b[34mcowplot\u001b[39m::stamp()\n",
      "\u001b[36mℹ\u001b[39m Use the conflicted package (\u001b[3m\u001b[34m<http://conflicted.r-lib.org/>\u001b[39m\u001b[23m) to force all conflicts to become errors\n",
      "── \u001b[1mAttaching packages\u001b[22m ────────────────────────────────────── tidymodels 1.1.1 ──\n",
      "\n",
      "\u001b[32m✔\u001b[39m \u001b[34mbroom       \u001b[39m 1.0.5     \u001b[32m✔\u001b[39m \u001b[34mrsample     \u001b[39m 1.2.0\n",
      "\u001b[32m✔\u001b[39m \u001b[34mdials       \u001b[39m 1.2.0     \u001b[32m✔\u001b[39m \u001b[34mtune        \u001b[39m 1.1.2\n",
      "\u001b[32m✔\u001b[39m \u001b[34mmodeldata   \u001b[39m 1.2.0     \u001b[32m✔\u001b[39m \u001b[34mworkflows   \u001b[39m 1.1.3\n",
      "\u001b[32m✔\u001b[39m \u001b[34mparsnip     \u001b[39m 1.1.1     \u001b[32m✔\u001b[39m \u001b[34mworkflowsets\u001b[39m 1.0.1\n",
      "\u001b[32m✔\u001b[39m \u001b[34mrecipes     \u001b[39m 1.0.8     \u001b[32m✔\u001b[39m \u001b[34myardstick   \u001b[39m 1.2.0\n",
      "\n",
      "── \u001b[1mConflicts\u001b[22m ───────────────────────────────────────── tidymodels_conflicts() ──\n",
      "\u001b[31m✖\u001b[39m \u001b[34mscales\u001b[39m::\u001b[32mdiscard()\u001b[39m masks \u001b[34mpurrr\u001b[39m::discard()\n",
      "\u001b[31m✖\u001b[39m \u001b[34mdplyr\u001b[39m::\u001b[32mfilter()\u001b[39m   masks \u001b[34mstats\u001b[39m::filter()\n",
      "\u001b[31m✖\u001b[39m \u001b[34mrecipes\u001b[39m::\u001b[32mfixed()\u001b[39m  masks \u001b[34mstringr\u001b[39m::fixed()\n",
      "\u001b[31m✖\u001b[39m \u001b[34mdplyr\u001b[39m::\u001b[32mlag()\u001b[39m      masks \u001b[34mstats\u001b[39m::lag()\n",
      "\u001b[31m✖\u001b[39m \u001b[34myardstick\u001b[39m::\u001b[32mspec()\u001b[39m masks \u001b[34mreadr\u001b[39m::spec()\n",
      "\u001b[31m✖\u001b[39m \u001b[34mrecipes\u001b[39m::\u001b[32mstep()\u001b[39m   masks \u001b[34mstats\u001b[39m::step()\n",
      "\u001b[34m•\u001b[39m Use \u001b[32mtidymodels_prefer()\u001b[39m to resolve common conflicts.\n",
      "\n",
      "\n",
      "Attaching package: ‘rvest’\n",
      "\n",
      "\n",
      "The following object is masked from ‘package:readr’:\n",
      "\n",
      "    guess_encoding\n",
      "\n",
      "\n"
     ]
    }
   ],
   "source": [
    "# Libraries required for the proposal\n",
    "library(cowplot)\n",
    "library(datateachr)\n",
    "library(digest)\n",
    "library(infer)\n",
    "library(repr)\n",
    "library(taxyvr)\n",
    "library(tidyverse) \n",
    "library(tidymodels)\n",
    "library(datasets)\n",
    "library(rvest)\n",
    "library(tibble) \n",
    "library(httr)\n"
   ]
  },
  {
   "cell_type": "code",
   "execution_count": 8,
   "id": "78cafa2e-5f4d-4338-95f1-91f42a00da4b",
   "metadata": {
    "tags": []
   },
   "outputs": [
    {
     "name": "stderr",
     "output_type": "stream",
     "text": [
      "\u001b[1mRows: \u001b[22m\u001b[34m145\u001b[39m \u001b[1mColumns: \u001b[22m\u001b[34m33\u001b[39m\n",
      "\u001b[36m──\u001b[39m \u001b[1mColumn specification\u001b[22m \u001b[36m────────────────────────────────────────────────────────\u001b[39m\n",
      "\u001b[1mDelimiter:\u001b[22m \",\"\n",
      "\u001b[31mchr\u001b[39m  (1): STUDENTID\n",
      "\u001b[32mdbl\u001b[39m (32): AGE, GENDER, HS_TYPE, SCHOLARSHIP, WORK, ACTIVITY, PARTNER, SALARY...\n",
      "\n",
      "\u001b[36mℹ\u001b[39m Use `spec()` to retrieve the full column specification for this data.\n",
      "\u001b[36mℹ\u001b[39m Specify the column types or set `show_col_types = FALSE` to quiet this message.\n"
     ]
    },
    {
     "data": {
      "text/html": [
       "<table class=\"dataframe\">\n",
       "<caption>A tibble: 6 × 33</caption>\n",
       "<thead>\n",
       "\t<tr><th scope=col>STUDENTID</th><th scope=col>AGE</th><th scope=col>GENDER</th><th scope=col>HS_TYPE</th><th scope=col>SCHOLARSHIP</th><th scope=col>WORK</th><th scope=col>ACTIVITY</th><th scope=col>PARTNER</th><th scope=col>SALARY</th><th scope=col>TRANSPORT</th><th scope=col>⋯</th><th scope=col>PREP_STUDY</th><th scope=col>PREP_EXAM</th><th scope=col>NOTES</th><th scope=col>LISTENS</th><th scope=col>LIKES_DISCUSS</th><th scope=col>CLASSROOM</th><th scope=col>CUML_GPA</th><th scope=col>EXP_GPA</th><th scope=col>COURSE ID</th><th scope=col>GRADE</th></tr>\n",
       "\t<tr><th scope=col>&lt;chr&gt;</th><th scope=col>&lt;dbl&gt;</th><th scope=col>&lt;dbl&gt;</th><th scope=col>&lt;dbl&gt;</th><th scope=col>&lt;dbl&gt;</th><th scope=col>&lt;dbl&gt;</th><th scope=col>&lt;dbl&gt;</th><th scope=col>&lt;dbl&gt;</th><th scope=col>&lt;dbl&gt;</th><th scope=col>&lt;dbl&gt;</th><th scope=col>⋯</th><th scope=col>&lt;dbl&gt;</th><th scope=col>&lt;dbl&gt;</th><th scope=col>&lt;dbl&gt;</th><th scope=col>&lt;dbl&gt;</th><th scope=col>&lt;dbl&gt;</th><th scope=col>&lt;dbl&gt;</th><th scope=col>&lt;dbl&gt;</th><th scope=col>&lt;dbl&gt;</th><th scope=col>&lt;dbl&gt;</th><th scope=col>&lt;dbl&gt;</th></tr>\n",
       "</thead>\n",
       "<tbody>\n",
       "\t<tr><td>STUDENT1</td><td>2</td><td>2</td><td>3</td><td>3</td><td>1</td><td>2</td><td>2</td><td>1</td><td>1</td><td>⋯</td><td>1</td><td>1</td><td>3</td><td>2</td><td>1</td><td>2</td><td>1</td><td>1</td><td>1</td><td>1</td></tr>\n",
       "\t<tr><td>STUDENT2</td><td>2</td><td>2</td><td>3</td><td>3</td><td>1</td><td>2</td><td>2</td><td>1</td><td>1</td><td>⋯</td><td>1</td><td>1</td><td>3</td><td>2</td><td>3</td><td>2</td><td>2</td><td>3</td><td>1</td><td>1</td></tr>\n",
       "\t<tr><td>STUDENT3</td><td>2</td><td>2</td><td>2</td><td>3</td><td>2</td><td>2</td><td>2</td><td>2</td><td>4</td><td>⋯</td><td>1</td><td>1</td><td>2</td><td>2</td><td>1</td><td>1</td><td>2</td><td>2</td><td>1</td><td>1</td></tr>\n",
       "\t<tr><td>STUDENT4</td><td>1</td><td>1</td><td>1</td><td>3</td><td>1</td><td>2</td><td>1</td><td>2</td><td>1</td><td>⋯</td><td>1</td><td>2</td><td>3</td><td>2</td><td>2</td><td>1</td><td>3</td><td>2</td><td>1</td><td>1</td></tr>\n",
       "\t<tr><td>STUDENT5</td><td>2</td><td>2</td><td>1</td><td>3</td><td>2</td><td>2</td><td>1</td><td>3</td><td>1</td><td>⋯</td><td>2</td><td>1</td><td>2</td><td>2</td><td>2</td><td>1</td><td>2</td><td>2</td><td>1</td><td>1</td></tr>\n",
       "\t<tr><td>STUDENT6</td><td>2</td><td>2</td><td>2</td><td>3</td><td>2</td><td>2</td><td>2</td><td>2</td><td>1</td><td>⋯</td><td>1</td><td>1</td><td>1</td><td>2</td><td>1</td><td>2</td><td>4</td><td>4</td><td>1</td><td>2</td></tr>\n",
       "</tbody>\n",
       "</table>\n"
      ],
      "text/latex": [
       "A tibble: 6 × 33\n",
       "\\begin{tabular}{lllllllllllllllllllll}\n",
       " STUDENTID & AGE & GENDER & HS\\_TYPE & SCHOLARSHIP & WORK & ACTIVITY & PARTNER & SALARY & TRANSPORT & ⋯ & PREP\\_STUDY & PREP\\_EXAM & NOTES & LISTENS & LIKES\\_DISCUSS & CLASSROOM & CUML\\_GPA & EXP\\_GPA & COURSE ID & GRADE\\\\\n",
       " <chr> & <dbl> & <dbl> & <dbl> & <dbl> & <dbl> & <dbl> & <dbl> & <dbl> & <dbl> & ⋯ & <dbl> & <dbl> & <dbl> & <dbl> & <dbl> & <dbl> & <dbl> & <dbl> & <dbl> & <dbl>\\\\\n",
       "\\hline\n",
       "\t STUDENT1 & 2 & 2 & 3 & 3 & 1 & 2 & 2 & 1 & 1 & ⋯ & 1 & 1 & 3 & 2 & 1 & 2 & 1 & 1 & 1 & 1\\\\\n",
       "\t STUDENT2 & 2 & 2 & 3 & 3 & 1 & 2 & 2 & 1 & 1 & ⋯ & 1 & 1 & 3 & 2 & 3 & 2 & 2 & 3 & 1 & 1\\\\\n",
       "\t STUDENT3 & 2 & 2 & 2 & 3 & 2 & 2 & 2 & 2 & 4 & ⋯ & 1 & 1 & 2 & 2 & 1 & 1 & 2 & 2 & 1 & 1\\\\\n",
       "\t STUDENT4 & 1 & 1 & 1 & 3 & 1 & 2 & 1 & 2 & 1 & ⋯ & 1 & 2 & 3 & 2 & 2 & 1 & 3 & 2 & 1 & 1\\\\\n",
       "\t STUDENT5 & 2 & 2 & 1 & 3 & 2 & 2 & 1 & 3 & 1 & ⋯ & 2 & 1 & 2 & 2 & 2 & 1 & 2 & 2 & 1 & 1\\\\\n",
       "\t STUDENT6 & 2 & 2 & 2 & 3 & 2 & 2 & 2 & 2 & 1 & ⋯ & 1 & 1 & 1 & 2 & 1 & 2 & 4 & 4 & 1 & 2\\\\\n",
       "\\end{tabular}\n"
      ],
      "text/markdown": [
       "\n",
       "A tibble: 6 × 33\n",
       "\n",
       "| STUDENTID &lt;chr&gt; | AGE &lt;dbl&gt; | GENDER &lt;dbl&gt; | HS_TYPE &lt;dbl&gt; | SCHOLARSHIP &lt;dbl&gt; | WORK &lt;dbl&gt; | ACTIVITY &lt;dbl&gt; | PARTNER &lt;dbl&gt; | SALARY &lt;dbl&gt; | TRANSPORT &lt;dbl&gt; | ⋯ ⋯ | PREP_STUDY &lt;dbl&gt; | PREP_EXAM &lt;dbl&gt; | NOTES &lt;dbl&gt; | LISTENS &lt;dbl&gt; | LIKES_DISCUSS &lt;dbl&gt; | CLASSROOM &lt;dbl&gt; | CUML_GPA &lt;dbl&gt; | EXP_GPA &lt;dbl&gt; | COURSE ID &lt;dbl&gt; | GRADE &lt;dbl&gt; |\n",
       "|---|---|---|---|---|---|---|---|---|---|---|---|---|---|---|---|---|---|---|---|---|\n",
       "| STUDENT1 | 2 | 2 | 3 | 3 | 1 | 2 | 2 | 1 | 1 | ⋯ | 1 | 1 | 3 | 2 | 1 | 2 | 1 | 1 | 1 | 1 |\n",
       "| STUDENT2 | 2 | 2 | 3 | 3 | 1 | 2 | 2 | 1 | 1 | ⋯ | 1 | 1 | 3 | 2 | 3 | 2 | 2 | 3 | 1 | 1 |\n",
       "| STUDENT3 | 2 | 2 | 2 | 3 | 2 | 2 | 2 | 2 | 4 | ⋯ | 1 | 1 | 2 | 2 | 1 | 1 | 2 | 2 | 1 | 1 |\n",
       "| STUDENT4 | 1 | 1 | 1 | 3 | 1 | 2 | 1 | 2 | 1 | ⋯ | 1 | 2 | 3 | 2 | 2 | 1 | 3 | 2 | 1 | 1 |\n",
       "| STUDENT5 | 2 | 2 | 1 | 3 | 2 | 2 | 1 | 3 | 1 | ⋯ | 2 | 1 | 2 | 2 | 2 | 1 | 2 | 2 | 1 | 1 |\n",
       "| STUDENT6 | 2 | 2 | 2 | 3 | 2 | 2 | 2 | 2 | 1 | ⋯ | 1 | 1 | 1 | 2 | 1 | 2 | 4 | 4 | 1 | 2 |\n",
       "\n"
      ],
      "text/plain": [
       "  STUDENTID AGE GENDER HS_TYPE SCHOLARSHIP WORK ACTIVITY PARTNER SALARY\n",
       "1 STUDENT1  2   2      3       3           1    2        2       1     \n",
       "2 STUDENT2  2   2      3       3           1    2        2       1     \n",
       "3 STUDENT3  2   2      2       3           2    2        2       2     \n",
       "4 STUDENT4  1   1      1       3           1    2        1       2     \n",
       "5 STUDENT5  2   2      1       3           2    2        1       3     \n",
       "6 STUDENT6  2   2      2       3           2    2        2       2     \n",
       "  TRANSPORT ⋯ PREP_STUDY PREP_EXAM NOTES LISTENS LIKES_DISCUSS CLASSROOM\n",
       "1 1         ⋯ 1          1         3     2       1             2        \n",
       "2 1         ⋯ 1          1         3     2       3             2        \n",
       "3 4         ⋯ 1          1         2     2       1             1        \n",
       "4 1         ⋯ 1          2         3     2       2             1        \n",
       "5 1         ⋯ 2          1         2     2       2             1        \n",
       "6 1         ⋯ 1          1         1     2       1             2        \n",
       "  CUML_GPA EXP_GPA COURSE ID GRADE\n",
       "1 1        1       1         1    \n",
       "2 2        3       1         1    \n",
       "3 2        2       1         1    \n",
       "4 3        2       1         1    \n",
       "5 2        2       1         1    \n",
       "6 4        4       1         2    "
      ]
     },
     "metadata": {},
     "output_type": "display_data"
    }
   ],
   "source": [
    "test_read <- read_csv('./student_prediction.csv')\n",
    "head(test_read) # First 6 data"
   ]
  },
  {
   "cell_type": "code",
   "execution_count": 7,
   "id": "58e03c06-500c-4555-b20c-5cbb14b941bd",
   "metadata": {
    "tags": []
   },
   "outputs": [
    {
     "data": {
      "text/html": [
       "<table class=\"dataframe\">\n",
       "<caption>A tibble: 1 × 2</caption>\n",
       "<thead>\n",
       "\t<tr><th scope=col>PartnerCount</th><th scope=col>NoPartnerCount</th></tr>\n",
       "\t<tr><th scope=col>&lt;int&gt;</th><th scope=col>&lt;int&gt;</th></tr>\n",
       "</thead>\n",
       "<tbody>\n",
       "\t<tr><td>61</td><td>84</td></tr>\n",
       "</tbody>\n",
       "</table>\n"
      ],
      "text/latex": [
       "A tibble: 1 × 2\n",
       "\\begin{tabular}{ll}\n",
       " PartnerCount & NoPartnerCount\\\\\n",
       " <int> & <int>\\\\\n",
       "\\hline\n",
       "\t 61 & 84\\\\\n",
       "\\end{tabular}\n"
      ],
      "text/markdown": [
       "\n",
       "A tibble: 1 × 2\n",
       "\n",
       "| PartnerCount &lt;int&gt; | NoPartnerCount &lt;int&gt; |\n",
       "|---|---|\n",
       "| 61 | 84 |\n",
       "\n"
      ],
      "text/plain": [
       "  PartnerCount NoPartnerCount\n",
       "1 61           84            "
      ]
     },
     "metadata": {},
     "output_type": "display_data"
    }
   ],
   "source": [
    "test_read |> summarize(PartnerCount = sum(PARTNER == 1),\n",
    "                       NoPartnerCount = sum(PARTNER == 2))"
   ]
  }
 ],
 "metadata": {
  "kernelspec": {
   "display_name": "R",
   "language": "R",
   "name": "ir"
  },
  "language_info": {
   "codemirror_mode": "r",
   "file_extension": ".r",
   "mimetype": "text/x-r-source",
   "name": "R",
   "pygments_lexer": "r",
   "version": "4.2.3"
  }
 },
 "nbformat": 4,
 "nbformat_minor": 5
}
