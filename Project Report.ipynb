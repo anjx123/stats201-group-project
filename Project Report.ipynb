{
 "cells": [
  {
   "cell_type": "markdown",
   "id": "810b9068-94c8-4399-88c5-71be1c02394e",
   "metadata": {},
   "source": [
    "# STAT 201 Project Proposal (Group 27)"
   ]
  },
  {
   "cell_type": "markdown",
   "id": "15876bbe-ac75-4cf7-a07f-d95e09436ae4",
   "metadata": {},
   "source": [
    "## Exploring the Impact of Relationships on Academic Performance"
   ]
  },
  {
   "cell_type": "markdown",
   "id": "677da07e-8248-4393-a62e-35f188531018",
   "metadata": {},
   "source": [
    "## Introduction\n",
    "Relationships can often have positive impacts on people's mental and emotional health. This can boost stability and academic support, leading to higher GPAs **(Vaeth, 2009, p.7-8)**. On the other hand, it can also be time consuming and unhealthy, which can detract from a person's studies. This project seeks to answer the question of **whether a student's relationship status affects their academic performance.**\n",
    "\n",
    "Our [dataset]( https://www.kaggle.com/datasets/csafrit2/higher-education-students-performance-evaluation) from 2019 contains information on 145 students in the Faculty of Engineering and Faculty of Educational Sciences at the University of California, Irvine. To answer our question, we will infer two parameters (the proportions of students with cumulative GPAs and expected GPAs above 3.0) on the populations of students who are in / not in relationships."
   ]
  },
  {
   "cell_type": "markdown",
   "id": "74b658bc-1c23-4c10-95c1-a9dc43dfc23e",
   "metadata": {},
   "source": [
    "## Preliminary Results"
   ]
  },
  {
   "cell_type": "code",
   "execution_count": 1,
   "id": "9b432a2e-b116-4e37-8030-12a3dd8ed10b",
   "metadata": {
    "tags": []
   },
   "outputs": [],
   "source": [
    "# Libraries required for the proposal\n",
    "suppressPackageStartupMessages({\n",
    "library(cowplot)\n",
    "library(datateachr)\n",
    "library(digest)\n",
    "library(infer)\n",
    "library(repr)\n",
    "library(taxyvr)\n",
    "library(tidyverse) \n",
    "library(tidymodels)\n",
    "library(datasets)\n",
    "library(rvest)\n",
    "library(tibble) \n",
    "library(RColorBrewer)\n",
    "library(httr)\n",
    "library(ggplot2)})"
   ]
  },
  {
   "cell_type": "code",
   "execution_count": 2,
   "id": "78cafa2e-5f4d-4338-95f1-91f42a00da4b",
   "metadata": {
    "tags": []
   },
   "outputs": [
    {
     "data": {
      "text/html": [
       "<table class=\"dataframe\">\n",
       "<caption>A tibble: 6 × 33</caption>\n",
       "<thead>\n",
       "\t<tr><th scope=col>STUDENTID</th><th scope=col>AGE</th><th scope=col>GENDER</th><th scope=col>HS_TYPE</th><th scope=col>SCHOLARSHIP</th><th scope=col>WORK</th><th scope=col>ACTIVITY</th><th scope=col>PARTNER</th><th scope=col>SALARY</th><th scope=col>TRANSPORT</th><th scope=col>⋯</th><th scope=col>PREP_STUDY</th><th scope=col>PREP_EXAM</th><th scope=col>NOTES</th><th scope=col>LISTENS</th><th scope=col>LIKES_DISCUSS</th><th scope=col>CLASSROOM</th><th scope=col>CUML_GPA</th><th scope=col>EXP_GPA</th><th scope=col>COURSE ID</th><th scope=col>GRADE</th></tr>\n",
       "\t<tr><th scope=col>&lt;chr&gt;</th><th scope=col>&lt;dbl&gt;</th><th scope=col>&lt;dbl&gt;</th><th scope=col>&lt;dbl&gt;</th><th scope=col>&lt;dbl&gt;</th><th scope=col>&lt;dbl&gt;</th><th scope=col>&lt;dbl&gt;</th><th scope=col>&lt;dbl&gt;</th><th scope=col>&lt;dbl&gt;</th><th scope=col>&lt;dbl&gt;</th><th scope=col>⋯</th><th scope=col>&lt;dbl&gt;</th><th scope=col>&lt;dbl&gt;</th><th scope=col>&lt;dbl&gt;</th><th scope=col>&lt;dbl&gt;</th><th scope=col>&lt;dbl&gt;</th><th scope=col>&lt;dbl&gt;</th><th scope=col>&lt;dbl&gt;</th><th scope=col>&lt;dbl&gt;</th><th scope=col>&lt;dbl&gt;</th><th scope=col>&lt;dbl&gt;</th></tr>\n",
       "</thead>\n",
       "<tbody>\n",
       "\t<tr><td>STUDENT1</td><td>2</td><td>2</td><td>3</td><td>3</td><td>1</td><td>2</td><td>2</td><td>1</td><td>1</td><td>⋯</td><td>1</td><td>1</td><td>3</td><td>2</td><td>1</td><td>2</td><td>1</td><td>1</td><td>1</td><td>1</td></tr>\n",
       "\t<tr><td>STUDENT2</td><td>2</td><td>2</td><td>3</td><td>3</td><td>1</td><td>2</td><td>2</td><td>1</td><td>1</td><td>⋯</td><td>1</td><td>1</td><td>3</td><td>2</td><td>3</td><td>2</td><td>2</td><td>3</td><td>1</td><td>1</td></tr>\n",
       "\t<tr><td>STUDENT3</td><td>2</td><td>2</td><td>2</td><td>3</td><td>2</td><td>2</td><td>2</td><td>2</td><td>4</td><td>⋯</td><td>1</td><td>1</td><td>2</td><td>2</td><td>1</td><td>1</td><td>2</td><td>2</td><td>1</td><td>1</td></tr>\n",
       "\t<tr><td>STUDENT4</td><td>1</td><td>1</td><td>1</td><td>3</td><td>1</td><td>2</td><td>1</td><td>2</td><td>1</td><td>⋯</td><td>1</td><td>2</td><td>3</td><td>2</td><td>2</td><td>1</td><td>3</td><td>2</td><td>1</td><td>1</td></tr>\n",
       "\t<tr><td>STUDENT5</td><td>2</td><td>2</td><td>1</td><td>3</td><td>2</td><td>2</td><td>1</td><td>3</td><td>1</td><td>⋯</td><td>2</td><td>1</td><td>2</td><td>2</td><td>2</td><td>1</td><td>2</td><td>2</td><td>1</td><td>1</td></tr>\n",
       "\t<tr><td>STUDENT6</td><td>2</td><td>2</td><td>2</td><td>3</td><td>2</td><td>2</td><td>2</td><td>2</td><td>1</td><td>⋯</td><td>1</td><td>1</td><td>1</td><td>2</td><td>1</td><td>2</td><td>4</td><td>4</td><td>1</td><td>2</td></tr>\n",
       "</tbody>\n",
       "</table>\n"
      ],
      "text/latex": [
       "A tibble: 6 × 33\n",
       "\\begin{tabular}{lllllllllllllllllllll}\n",
       " STUDENTID & AGE & GENDER & HS\\_TYPE & SCHOLARSHIP & WORK & ACTIVITY & PARTNER & SALARY & TRANSPORT & ⋯ & PREP\\_STUDY & PREP\\_EXAM & NOTES & LISTENS & LIKES\\_DISCUSS & CLASSROOM & CUML\\_GPA & EXP\\_GPA & COURSE ID & GRADE\\\\\n",
       " <chr> & <dbl> & <dbl> & <dbl> & <dbl> & <dbl> & <dbl> & <dbl> & <dbl> & <dbl> & ⋯ & <dbl> & <dbl> & <dbl> & <dbl> & <dbl> & <dbl> & <dbl> & <dbl> & <dbl> & <dbl>\\\\\n",
       "\\hline\n",
       "\t STUDENT1 & 2 & 2 & 3 & 3 & 1 & 2 & 2 & 1 & 1 & ⋯ & 1 & 1 & 3 & 2 & 1 & 2 & 1 & 1 & 1 & 1\\\\\n",
       "\t STUDENT2 & 2 & 2 & 3 & 3 & 1 & 2 & 2 & 1 & 1 & ⋯ & 1 & 1 & 3 & 2 & 3 & 2 & 2 & 3 & 1 & 1\\\\\n",
       "\t STUDENT3 & 2 & 2 & 2 & 3 & 2 & 2 & 2 & 2 & 4 & ⋯ & 1 & 1 & 2 & 2 & 1 & 1 & 2 & 2 & 1 & 1\\\\\n",
       "\t STUDENT4 & 1 & 1 & 1 & 3 & 1 & 2 & 1 & 2 & 1 & ⋯ & 1 & 2 & 3 & 2 & 2 & 1 & 3 & 2 & 1 & 1\\\\\n",
       "\t STUDENT5 & 2 & 2 & 1 & 3 & 2 & 2 & 1 & 3 & 1 & ⋯ & 2 & 1 & 2 & 2 & 2 & 1 & 2 & 2 & 1 & 1\\\\\n",
       "\t STUDENT6 & 2 & 2 & 2 & 3 & 2 & 2 & 2 & 2 & 1 & ⋯ & 1 & 1 & 1 & 2 & 1 & 2 & 4 & 4 & 1 & 2\\\\\n",
       "\\end{tabular}\n"
      ],
      "text/markdown": [
       "\n",
       "A tibble: 6 × 33\n",
       "\n",
       "| STUDENTID &lt;chr&gt; | AGE &lt;dbl&gt; | GENDER &lt;dbl&gt; | HS_TYPE &lt;dbl&gt; | SCHOLARSHIP &lt;dbl&gt; | WORK &lt;dbl&gt; | ACTIVITY &lt;dbl&gt; | PARTNER &lt;dbl&gt; | SALARY &lt;dbl&gt; | TRANSPORT &lt;dbl&gt; | ⋯ ⋯ | PREP_STUDY &lt;dbl&gt; | PREP_EXAM &lt;dbl&gt; | NOTES &lt;dbl&gt; | LISTENS &lt;dbl&gt; | LIKES_DISCUSS &lt;dbl&gt; | CLASSROOM &lt;dbl&gt; | CUML_GPA &lt;dbl&gt; | EXP_GPA &lt;dbl&gt; | COURSE ID &lt;dbl&gt; | GRADE &lt;dbl&gt; |\n",
       "|---|---|---|---|---|---|---|---|---|---|---|---|---|---|---|---|---|---|---|---|---|\n",
       "| STUDENT1 | 2 | 2 | 3 | 3 | 1 | 2 | 2 | 1 | 1 | ⋯ | 1 | 1 | 3 | 2 | 1 | 2 | 1 | 1 | 1 | 1 |\n",
       "| STUDENT2 | 2 | 2 | 3 | 3 | 1 | 2 | 2 | 1 | 1 | ⋯ | 1 | 1 | 3 | 2 | 3 | 2 | 2 | 3 | 1 | 1 |\n",
       "| STUDENT3 | 2 | 2 | 2 | 3 | 2 | 2 | 2 | 2 | 4 | ⋯ | 1 | 1 | 2 | 2 | 1 | 1 | 2 | 2 | 1 | 1 |\n",
       "| STUDENT4 | 1 | 1 | 1 | 3 | 1 | 2 | 1 | 2 | 1 | ⋯ | 1 | 2 | 3 | 2 | 2 | 1 | 3 | 2 | 1 | 1 |\n",
       "| STUDENT5 | 2 | 2 | 1 | 3 | 2 | 2 | 1 | 3 | 1 | ⋯ | 2 | 1 | 2 | 2 | 2 | 1 | 2 | 2 | 1 | 1 |\n",
       "| STUDENT6 | 2 | 2 | 2 | 3 | 2 | 2 | 2 | 2 | 1 | ⋯ | 1 | 1 | 1 | 2 | 1 | 2 | 4 | 4 | 1 | 2 |\n",
       "\n"
      ],
      "text/plain": [
       "  STUDENTID AGE GENDER HS_TYPE SCHOLARSHIP WORK ACTIVITY PARTNER SALARY\n",
       "1 STUDENT1  2   2      3       3           1    2        2       1     \n",
       "2 STUDENT2  2   2      3       3           1    2        2       1     \n",
       "3 STUDENT3  2   2      2       3           2    2        2       2     \n",
       "4 STUDENT4  1   1      1       3           1    2        1       2     \n",
       "5 STUDENT5  2   2      1       3           2    2        1       3     \n",
       "6 STUDENT6  2   2      2       3           2    2        2       2     \n",
       "  TRANSPORT ⋯ PREP_STUDY PREP_EXAM NOTES LISTENS LIKES_DISCUSS CLASSROOM\n",
       "1 1         ⋯ 1          1         3     2       1             2        \n",
       "2 1         ⋯ 1          1         3     2       3             2        \n",
       "3 4         ⋯ 1          1         2     2       1             1        \n",
       "4 1         ⋯ 1          2         3     2       2             1        \n",
       "5 1         ⋯ 2          1         2     2       2             1        \n",
       "6 1         ⋯ 1          1         1     2       1             2        \n",
       "  CUML_GPA EXP_GPA COURSE ID GRADE\n",
       "1 1        1       1         1    \n",
       "2 2        3       1         1    \n",
       "3 2        2       1         1    \n",
       "4 3        2       1         1    \n",
       "5 2        2       1         1    \n",
       "6 4        4       1         2    "
      ]
     },
     "metadata": {},
     "output_type": "display_data"
    }
   ],
   "source": [
    "student_gpa <- read_csv('https://raw.githubusercontent.com/anjx123/stats201-group-project/Project-Report/student_prediction.csv', show_col_types = FALSE)\n",
    "head(student_gpa) # Read first 6 rows data"
   ]
  },
  {
   "cell_type": "markdown",
   "id": "0fabc7d2-4271-405d-8a49-2075d4d281ff",
   "metadata": {},
   "source": [
    "                                                Figure 1: Loaded Student Information "
   ]
  },
  {
   "cell_type": "markdown",
   "id": "6fdd874a-a9a8-4b98-9ef4-5c67e0f9518f",
   "metadata": {},
   "source": [
    "### Data Wrangling\n",
    "\n",
    "Figure 1 (above) shows the first 6 students obtained from the dataset which contains different variables such as age, gender, and hours spent on studying. We are only interested in the `PARTNER`, `CUML_GPA`, and `EXP_GPA` columns and so we start by selecting those columns."
   ]
  },
  {
   "cell_type": "code",
   "execution_count": null,
   "id": "1ed8f6b2-2752-442d-a744-653d9e53d1ee",
   "metadata": {
    "tags": []
   },
   "outputs": [],
   "source": [
    "partner_data <- student_gpa |>\n",
    "    select(STUDENTID, PARTNER, CUML_GPA,EXP_GPA) |>\n",
    "    mutate(PARTNER = recode(PARTNER, '1' = 'Yes', '2' = 'No'))\n",
    "\n",
    "head(partner_data)"
   ]
  },
  {
   "cell_type": "markdown",
   "id": "ccbe990d-19dd-45b9-b9cd-6cc5006054d4",
   "metadata": {
    "tags": []
   },
   "source": [
    "                    Figure 2: Cleaned Student Data"
   ]
  },
  {
   "cell_type": "markdown",
   "id": "8973366f-fe53-4c1d-9a53-d15fe3859ae4",
   "metadata": {},
   "source": [
    "NOTE: Column: Cumulative GPA means 'Cumulative grade point average in the last semester.' and Expected GPA is the self predicted GPA when they graduate. 1 means the student's cumulative GPA is less than 2.0 (2: 2.00-2.49, 3: 2.50-2.99, 4: 3.00-3.49, 5: above 3.49 respectively). "
   ]
  },
  {
   "cell_type": "markdown",
   "id": "74162a46-1deb-4420-b4ba-5adb8f5ff57a",
   "metadata": {
    "tags": []
   },
   "source": [
    "The code as shown in Figure 3 below shows the counts of students with and without a partner. This will be important to show that we can apply the Central Limit Theorem later. "
   ]
  },
  {
   "cell_type": "code",
   "execution_count": 4,
   "id": "4bc15622-9bca-434c-a2ef-6a611a8beeb6",
   "metadata": {
    "tags": []
   },
   "outputs": [
    {
     "data": {
      "text/html": [
       "<table class=\"dataframe\">\n",
       "<caption>A tibble: 1 × 2</caption>\n",
       "<thead>\n",
       "\t<tr><th scope=col>PartnerCount</th><th scope=col>NoPartnerCount</th></tr>\n",
       "\t<tr><th scope=col>&lt;int&gt;</th><th scope=col>&lt;int&gt;</th></tr>\n",
       "</thead>\n",
       "<tbody>\n",
       "\t<tr><td>61</td><td>84</td></tr>\n",
       "</tbody>\n",
       "</table>\n"
      ],
      "text/latex": [
       "A tibble: 1 × 2\n",
       "\\begin{tabular}{ll}\n",
       " PartnerCount & NoPartnerCount\\\\\n",
       " <int> & <int>\\\\\n",
       "\\hline\n",
       "\t 61 & 84\\\\\n",
       "\\end{tabular}\n"
      ],
      "text/markdown": [
       "\n",
       "A tibble: 1 × 2\n",
       "\n",
       "| PartnerCount &lt;int&gt; | NoPartnerCount &lt;int&gt; |\n",
       "|---|---|\n",
       "| 61 | 84 |\n",
       "\n"
      ],
      "text/plain": [
       "  PartnerCount NoPartnerCount\n",
       "1 61           84            "
      ]
     },
     "metadata": {},
     "output_type": "display_data"
    }
   ],
   "source": [
    "partner_data |> summarize(PartnerCount = sum(PARTNER == \"Yes\"),      # With partner\n",
    "                          NoPartnerCount = sum(PARTNER == \"No\"))     # Without partner"
   ]
  },
  {
   "cell_type": "markdown",
   "id": "f53d2c2a-8396-47ea-902e-b9dc0c36b8c9",
   "metadata": {
    "tags": []
   },
   "source": [
    "                    Figure 3: Count of students with partners and without partners"
   ]
  },
  {
   "cell_type": "markdown",
   "id": "5882317b-6e3a-4273-bef9-f8a68abbf762",
   "metadata": {
    "tags": []
   },
   "source": [
    "### Proportion of Students with a Cumulative and Expected GPA above 3.0"
   ]
  },
  {
   "cell_type": "markdown",
   "id": "ba14cf24-ba7d-4cab-8474-4ae68caef9ed",
   "metadata": {},
   "source": [
    "In this study, we are interested in the proportion of students who have good academic performance. We can then group these students by whether they have a partner or not, and calculate the proportion of individuals that have a cumulative and expected GPA greater than or equal to level 4 (GPA >= 3.00) which we will deem as \"successful\" in this project."
   ]
  },
  {
   "cell_type": "code",
   "execution_count": 5,
   "id": "6953ce2b-c14c-4468-8f6d-0a75f411defb",
   "metadata": {
    "tags": []
   },
   "outputs": [
    {
     "data": {
      "text/html": [
       "<table class=\"dataframe\">\n",
       "<caption>A tibble: 2 × 4</caption>\n",
       "<thead>\n",
       "\t<tr><th scope=col>PARTNER</th><th scope=col>count</th><th scope=col>p_gpa_above_3.0</th><th scope=col>p_expect_gpa_above_3.0</th></tr>\n",
       "\t<tr><th scope=col>&lt;chr&gt;</th><th scope=col>&lt;int&gt;</th><th scope=col>&lt;dbl&gt;</th><th scope=col>&lt;dbl&gt;</th></tr>\n",
       "</thead>\n",
       "<tbody>\n",
       "\t<tr><td>No </td><td>84</td><td>0.4404762</td><td>0.1904762</td></tr>\n",
       "\t<tr><td>Yes</td><td>61</td><td>0.4590164</td><td>0.2295082</td></tr>\n",
       "</tbody>\n",
       "</table>\n"
      ],
      "text/latex": [
       "A tibble: 2 × 4\n",
       "\\begin{tabular}{llll}\n",
       " PARTNER & count & p\\_gpa\\_above\\_3.0 & p\\_expect\\_gpa\\_above\\_3.0\\\\\n",
       " <chr> & <int> & <dbl> & <dbl>\\\\\n",
       "\\hline\n",
       "\t No  & 84 & 0.4404762 & 0.1904762\\\\\n",
       "\t Yes & 61 & 0.4590164 & 0.2295082\\\\\n",
       "\\end{tabular}\n"
      ],
      "text/markdown": [
       "\n",
       "A tibble: 2 × 4\n",
       "\n",
       "| PARTNER &lt;chr&gt; | count &lt;int&gt; | p_gpa_above_3.0 &lt;dbl&gt; | p_expect_gpa_above_3.0 &lt;dbl&gt; |\n",
       "|---|---|---|---|\n",
       "| No  | 84 | 0.4404762 | 0.1904762 |\n",
       "| Yes | 61 | 0.4590164 | 0.2295082 |\n",
       "\n"
      ],
      "text/plain": [
       "  PARTNER count p_gpa_above_3.0 p_expect_gpa_above_3.0\n",
       "1 No      84    0.4404762       0.1904762             \n",
       "2 Yes     61    0.4590164       0.2295082             "
      ]
     },
     "metadata": {},
     "output_type": "display_data"
    }
   ],
   "source": [
    "prop_gpas <- partner_data |>\n",
    "    group_by(PARTNER) |>\n",
    "    summarize(count = n(),\n",
    "              p_gpa_above_3.0 = sum(CUML_GPA >= 4)/count,\n",
    "              p_expect_gpa_above_3.0 = sum(EXP_GPA >= 4)/count)\n",
    "\n",
    "    \n",
    "head(prop_gpas)"
   ]
  },
  {
   "cell_type": "markdown",
   "id": "9b777001-3198-45dd-a45d-d4ac2b6ff24a",
   "metadata": {},
   "source": [
    "            Figure 4: Proportion of students' Cumulative GPA and Expected GPA above 3.0"
   ]
  },
  {
   "cell_type": "markdown",
   "id": "35202551-d98e-4fb1-913a-7bc4033006a4",
   "metadata": {},
   "source": [
    "According to Figure 4, we found that the students with partners have slightly higher proportions of Cumulative and Expected GPA above 3.0, than that of students without partners. "
   ]
  },
  {
   "cell_type": "markdown",
   "id": "fc397e0a-4bec-42c8-b762-c13fdae6ac2d",
   "metadata": {},
   "source": [
    "### Visualization: Proportion of Students with a Cumulative GPA above 3.0"
   ]
  },
  {
   "cell_type": "markdown",
   "id": "a718a84c-2fd5-4639-8321-84126c588822",
   "metadata": {},
   "source": [
    "In order to compare the student performance with the factor `PARTNER`, we visualize the distribution of the cumulative GPA separately, for students with Partners and without Partners. Figure 5a and 5b shows the cumulative GPA for students who have a partner and the culumulative GPA for students who do not have a partner respectively.\n",
    "\n",
    "Because our project statistics is the proportion for student GPA level 4.0 and greater (GPA >= 3.00), we color in the parts we are interested in, inspecting if one group of students have higher proportion in the distribution.\n"
   ]
  },
  {
   "cell_type": "code",
   "execution_count": null,
   "id": "4fc9934d-82c7-4bdd-92b2-4675de6d8bd5",
   "metadata": {
    "tags": []
   },
   "outputs": [],
   "source": [
    "partner_stu_gpa_plot <- partner_data |>\n",
    "    mutate(bar_color = ifelse(CUML_GPA %in% c(4, 5), \"#bd3131\", \"#ADD8E6\")) |>\n",
    "    filter(PARTNER == \"Yes\")|>\n",
    "    ggplot(aes(x = CUML_GPA, fill = bar_color))+\n",
    "    geom_bar() +\n",
    "    scale_fill_identity() +\n",
    "    labs(x = \"Cumulative GPA\", title = \"Cumulative GPA (with a partner)\", y = \"No. of Students\")\n",
    "\n",
    "no_partner_stu_gpa_plot <- partner_data |>\n",
    "    mutate(bar_color = ifelse(CUML_GPA %in% c(4, 5), \"#bd3131\", \"#ADD8E6\")) |>\n",
    "    filter(PARTNER == \"No\")|>\n",
    "    ggplot(aes(x = CUML_GPA, fill = bar_color))+\n",
    "    geom_bar() +\n",
    "    scale_fill_identity() +\n",
    "    labs(x = \"Cumulative GPA\", title = \"Cumulative GPA (without a partner)\", y = \"No. of Students\") #+\n",
    "\n",
    "\n",
    "plot_grid(partner_stu_gpa_plot, no_partner_stu_gpa_plot)"
   ]
  },
  {
   "cell_type": "markdown",
   "id": "d4553eaf-fddd-484d-be53-f2e596869650",
   "metadata": {},
   "source": [
    "                            Figure 5a & Figure 5b: Sample Distribution of Cumulative GPA"
   ]
  },
  {
   "cell_type": "markdown",
   "id": "fd88f2e5-87fd-44bc-8d47-ab50cc401f34",
   "metadata": {},
   "source": [
    "### Visualization: Proportion of Students with an Expected GPA above 3.0"
   ]
  },
  {
   "cell_type": "code",
   "execution_count": null,
   "id": "1aac39cd-adb2-4832-afbf-9f160975cee3",
   "metadata": {
    "tags": []
   },
   "outputs": [],
   "source": [
    "partner_stu_expect_gpa_plot <- partner_data |>\n",
    "    mutate(bar_color = ifelse(EXP_GPA %in% c(4, 5), \"#bd3131\", \"#ADD8E6\")) |>\n",
    "    filter(PARTNER == \"Yes\")|>\n",
    "    ggplot(aes(x =EXP_GPA, fill = bar_color))+\n",
    "    geom_bar() +\n",
    "    scale_fill_identity() +\n",
    "    labs(x = \"Expected GPA\", title = \"Expected GPA (with a partner)\", y = \"No. of Students\")\n",
    "\n",
    "no_partner_stu_expect_gpa_plot <- partner_data |>\n",
    "    mutate(bar_color = ifelse(EXP_GPA %in% c(4, 5), \"#bd3131\", \"#ADD8E6\")) |>\n",
    "    filter(PARTNER == \"No\")|>\n",
    "    ggplot(aes(x = EXP_GPA, fill = bar_color))+\n",
    "    geom_bar() +\n",
    "    scale_fill_identity() +\n",
    "    labs(x = \"Expected GPA\", title = \"Expected GPA (without a partner)\", y = \"No. of Students\") #+\n",
    "\n",
    "\n",
    "plot_grid(partner_stu_expect_gpa_plot, no_partner_stu_expect_gpa_plot)"
   ]
  },
  {
   "cell_type": "markdown",
   "id": "42aa57fb-5a90-4d96-b0b7-a17e7f3f268b",
   "metadata": {},
   "source": [
    "            Figure 6a & Figure 6b: Sample Distribution of Expected GPA"
   ]
  },
  {
   "cell_type": "markdown",
   "id": "c4ee5d08-6c05-453e-817d-b0cdb02faf79",
   "metadata": {},
   "source": [
    "## Methods: Plan\n",
    "This report is trustworthy as it uses robust statistical frameworks to analyze the data. The hypothesis testing approach which includes bootstrapping to obtain confidence intervals ensures that the conclusions drawn are statistically significant and not due to random chance. In addition, the report uses data collected by a reputable source UCI's Faculty of Engineering and Faculty of Educational Sciences students which gives credit that the sample was taken without bias and representative of the population.\n",
    "\n",
    "From our preliminary analysis, we see that students with a partner have a higher mean cumulative and expected GPA in the sample than students who do not. However, this would not be sufficient evidence to provide to a stakeholder and declare that having a partner is better for student's GPA. This is because plots do not tell us whether the observed differences are statistically significant as they do not provide a confidence interval to show us how precise our estimates are. Therefore, there’s a risk of drawing inaccurate conclusions due to the inherent randomness of sampling. \n",
    "\n",
    "### Our plan moving forward\n",
    "To address these gaps, we will conduct a hypothesis test using the infer package. The framework will be roughly as such\n",
    "```r  \n",
    "dataset |> specify |> hypothesize_with_independence |> generate_using_permute |> calculate_the_diff_in_mean |> get_ci |> Graph the bootstrap distribution and confidence interval\n",
    "``` \n",
    "Then we will use `\n",
    "get_p_value()\n",
    "`\n",
    "with direction set to both sides to get the p_value and compare it to a chosen significance level to see whether we should reject the null hypothesis. \n",
    "\n",
    "Bootstrapping to obtain the confidence interval (CI) results in fewer assumptions on the data and can be simply obtained by using `get_ci` in the infer package. \n",
    "Asymptotics relies on the Central Limit Theorem (CLT) which relies on having a sufficiently sized data set that is not heavily skewed. In this case, It would be alright to use the asymptotic method as the dataset is sufficiently large (counts 84 for no partner and 64 for yes partner), and the difference in mean being a sum of values from the population. \n",
    "\n",
    "### What we expect to find\n",
    "\n",
    "We expect to find that there will be a correlation between being in a relationship and a student's GPA as students in relationships may have more academic, emotional support that could boost mental health and stability leading to higher GPAs **(Vaeth, 2009, p.7-8)**. This is especially when relationship are steady, consequently relationships can be a distraction from studies and lead to a lower GPA when it is unhealthy. \n",
    "\n",
    "### Impact\n",
    "\n",
    "These findings can help other students make an informed decision of about entering or maintaining relationships during their studies. In addition, it could lead to new strategies for schools to support students such as relationship counseling or workshops on balancing personal life with academic responsibilities. **(Lin S. Norton , S. Thomas , K. Morgan , A. Tilley & Thomas E. Dickins (1998))**"
   ]
  },
  {
   "cell_type": "markdown",
   "id": "782bd8c0-bfcd-480d-bc3a-c719647dea04",
   "metadata": {},
   "source": [
    "### Further Questions\n",
    "What specific aspects of a relationship affect a student's GPA? Is it the emotional support, the time commitment, or some other factor? Perhaps we can also explore how different types of relationships (short-term, long-term etc.) have an effect on GPA."
   ]
  },
  {
   "cell_type": "markdown",
   "id": "b26750d9-4a46-492e-af9c-d3be726dedba",
   "metadata": {},
   "source": [
    "## References\n",
    "1. Csafrit. (2021, December 21). Higher Education Students Performance Evaluation. Kaggle. https://www.kaggle.com/datasets/csafrit2/higher-education-students-performance-evaluation \n",
    "\n",
    "2. Norton, L. S., Thomas, S., Morgan, K., Tilley, A., &amp; Dickins, T. E. (1998). Full-time studying and long-term relationships: Make or break for mature students? British Journal of Guidance &amp;amp; Counselling, 26(1), 75–88. https://doi.org/10.1080/03069889808253840 \n",
    "\n",
    "3. Vaeth , J. (2009). Undergraduate Psychology Research Methods Journal - Lindenwood University. https://digitalcommons.lindenwood.edu/cgi/viewcontent.cgi?article=1140&amp;context=psych_journals "
   ]
  }
 ],
 "metadata": {
  "kernelspec": {
   "display_name": "R",
   "language": "R",
   "name": "ir"
  },
  "language_info": {
   "codemirror_mode": "r",
   "file_extension": ".r",
   "mimetype": "text/x-r-source",
   "name": "R",
   "pygments_lexer": "r",
   "version": "4.2.3"
  }
 },
 "nbformat": 4,
 "nbformat_minor": 5
}
