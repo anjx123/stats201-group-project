{
 "cells": [
  {
   "cell_type": "code",
   "execution_count": 2,
   "id": "ef4386c0-e148-49ee-8c41-eaf10f8e503c",
   "metadata": {
    "tags": []
   },
   "outputs": [
    {
     "ename": "ERROR",
     "evalue": "Error in parse(text = x, srcfile = src): <text>:1:6: unexpected symbol\n1: Just testing\n         ^\n",
     "output_type": "error",
     "traceback": [
      "Error in parse(text = x, srcfile = src): <text>:1:6: unexpected symbol\n1: Just testing\n         ^\nTraceback:\n"
     ]
    }
   ],
   "source": [
    "Just testing my project proposal\n",
    "\n",
    "\n"
   ]
  },
  {
   "cell_type": "code",
   "execution_count": null,
   "id": "5f19b1ca-bf7c-472e-82f4-183e3329a02d",
   "metadata": {
    "tags": []
   },
   "outputs": [],
   "source": [
    "I can make changes"
   ]
  },
  {
   "cell_type": "code",
   "execution_count": null,
   "id": "7ca95d58-ebea-4811-9cea-7ac2ea400ac2",
   "metadata": {},
   "outputs": [],
   "source": [
    "More changes"
   ]
  },
  {
   "cell_type": "code",
   "execution_count": null,
   "id": "53fb02b0-a30f-41ac-8477-a407ea8b1fbd",
   "metadata": {},
   "outputs": [],
   "source": [
    "test 1.2.3.4....."
   ]
  },
  {
   "cell_type": "code",
   "execution_count": null,
   "id": "e8afd673-86c7-41b7-b19f-e17f74dc0f65",
   "metadata": {},
   "outputs": [],
   "source": [
    "....123...."
   ]
  },
  {
   "cell_type": "code",
   "execution_count": null,
   "id": "983e632a-4afd-4d9e-adf9-4e70cf57263d",
   "metadata": {},
   "outputs": [],
   "source": [
    "abcde................................"
   ]
  }
 ],
 "metadata": {
  "kernelspec": {
   "display_name": "R",
   "language": "R",
   "name": "ir"
  },
  "language_info": {
   "codemirror_mode": "r",
   "file_extension": ".r",
   "mimetype": "text/x-r-source",
   "name": "R",
   "pygments_lexer": "r",
   "version": "4.2.3"
  },
  "toc-showmarkdowntxt": true,
  "toc-showtags": true
 },
 "nbformat": 4,
 "nbformat_minor": 5
}
