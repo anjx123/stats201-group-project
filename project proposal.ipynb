{
 "cells": [
  {
   "cell_type": "markdown",
   "id": "5652ac10-1c39-41a1-9227-78d517a28851",
   "metadata": {
    "tags": []
   },
   "source": [
    "# Group Proposal\n",
    "_________________________________________"
   ]
  },
  {
   "cell_type": "markdown",
   "id": "4a1338a1-3f87-4017-985d-2017abbc9ab1",
   "metadata": {
    "tags": []
   },
   "source": [
    "## Predict certain"
   ]
  },
  {
   "cell_type": "markdown",
   "id": "da05e277-cd7d-4e34-a4f9-697648235bab",
   "metadata": {},
   "source": [
    "## **Introduction**\n",
    "\n",
    "Our project is to research on the unemployment rate between if American Black Men and Women and their education level. The data was obtained from Kaggle at https://www.kaggle.com/datasets/asaniczka/unemployment-rates-by-demographics-1978-2023?rvi=1. The details..."
   ]
  },
  {
   "cell_type": "code",
   "execution_count": 2,
   "id": "53fb02b0-a30f-41ac-8477-a407ea8b1fbd",
   "metadata": {
    "tags": []
   },
   "outputs": [
    {
     "name": "stderr",
     "output_type": "stream",
     "text": [
      "── \u001b[1mAttaching core tidyverse packages\u001b[22m ──────────────────────── tidyverse 2.0.0 ──\n",
      "\u001b[32m✔\u001b[39m \u001b[34mdplyr    \u001b[39m 1.1.3     \u001b[32m✔\u001b[39m \u001b[34mreadr    \u001b[39m 2.1.4\n",
      "\u001b[32m✔\u001b[39m \u001b[34mforcats  \u001b[39m 1.0.0     \u001b[32m✔\u001b[39m \u001b[34mstringr  \u001b[39m 1.5.0\n",
      "\u001b[32m✔\u001b[39m \u001b[34mggplot2  \u001b[39m 3.4.3     \u001b[32m✔\u001b[39m \u001b[34mtibble   \u001b[39m 3.2.1\n",
      "\u001b[32m✔\u001b[39m \u001b[34mlubridate\u001b[39m 1.9.2     \u001b[32m✔\u001b[39m \u001b[34mtidyr    \u001b[39m 1.3.0\n",
      "\u001b[32m✔\u001b[39m \u001b[34mpurrr    \u001b[39m 1.0.1     \n",
      "── \u001b[1mConflicts\u001b[22m ────────────────────────────────────────── tidyverse_conflicts() ──\n",
      "\u001b[31m✖\u001b[39m \u001b[34mdplyr\u001b[39m::\u001b[32mfilter()\u001b[39m    masks \u001b[34mstats\u001b[39m::filter()\n",
      "\u001b[31m✖\u001b[39m \u001b[34mdplyr\u001b[39m::\u001b[32mlag()\u001b[39m       masks \u001b[34mstats\u001b[39m::lag()\n",
      "\u001b[31m✖\u001b[39m \u001b[34mlubridate\u001b[39m::\u001b[32mstamp()\u001b[39m masks \u001b[34mcowplot\u001b[39m::stamp()\n",
      "\u001b[36mℹ\u001b[39m Use the conflicted package (\u001b[3m\u001b[34m<http://conflicted.r-lib.org/>\u001b[39m\u001b[23m) to force all conflicts to become errors\n",
      "── \u001b[1mAttaching packages\u001b[22m ────────────────────────────────────── tidymodels 1.1.1 ──\n",
      "\n",
      "\u001b[32m✔\u001b[39m \u001b[34mbroom       \u001b[39m 1.0.5     \u001b[32m✔\u001b[39m \u001b[34mrsample     \u001b[39m 1.2.0\n",
      "\u001b[32m✔\u001b[39m \u001b[34mdials       \u001b[39m 1.2.0     \u001b[32m✔\u001b[39m \u001b[34mtune        \u001b[39m 1.1.2\n",
      "\u001b[32m✔\u001b[39m \u001b[34mmodeldata   \u001b[39m 1.2.0     \u001b[32m✔\u001b[39m \u001b[34mworkflows   \u001b[39m 1.1.3\n",
      "\u001b[32m✔\u001b[39m \u001b[34mparsnip     \u001b[39m 1.1.1     \u001b[32m✔\u001b[39m \u001b[34mworkflowsets\u001b[39m 1.0.1\n",
      "\u001b[32m✔\u001b[39m \u001b[34mrecipes     \u001b[39m 1.0.8     \u001b[32m✔\u001b[39m \u001b[34myardstick   \u001b[39m 1.2.0\n",
      "\n",
      "── \u001b[1mConflicts\u001b[22m ───────────────────────────────────────── tidymodels_conflicts() ──\n",
      "\u001b[31m✖\u001b[39m \u001b[34mscales\u001b[39m::\u001b[32mdiscard()\u001b[39m masks \u001b[34mpurrr\u001b[39m::discard()\n",
      "\u001b[31m✖\u001b[39m \u001b[34mdplyr\u001b[39m::\u001b[32mfilter()\u001b[39m   masks \u001b[34mstats\u001b[39m::filter()\n",
      "\u001b[31m✖\u001b[39m \u001b[34mrecipes\u001b[39m::\u001b[32mfixed()\u001b[39m  masks \u001b[34mstringr\u001b[39m::fixed()\n",
      "\u001b[31m✖\u001b[39m \u001b[34mdplyr\u001b[39m::\u001b[32mlag()\u001b[39m      masks \u001b[34mstats\u001b[39m::lag()\n",
      "\u001b[31m✖\u001b[39m \u001b[34myardstick\u001b[39m::\u001b[32mspec()\u001b[39m masks \u001b[34mreadr\u001b[39m::spec()\n",
      "\u001b[31m✖\u001b[39m \u001b[34mrecipes\u001b[39m::\u001b[32mstep()\u001b[39m   masks \u001b[34mstats\u001b[39m::step()\n",
      "\u001b[34m•\u001b[39m Search for functions across packages at \u001b[32mhttps://www.tidymodels.org/find/\u001b[39m\n",
      "\n",
      "\n",
      "Attaching package: ‘rvest’\n",
      "\n",
      "\n",
      "The following object is masked from ‘package:readr’:\n",
      "\n",
      "    guess_encoding\n",
      "\n",
      "\n"
     ]
    }
   ],
   "source": [
    "# Libraries required for the proposal\n",
    "library(cowplot)\n",
    "library(datateachr)\n",
    "library(digest)\n",
    "library(infer)\n",
    "library(repr)\n",
    "library(taxyvr)\n",
    "library(tidyverse) \n",
    "library(tidymodels)\n",
    "library(datasets)\n",
    "library(rvest)\n",
    "library(tibble) ## \n",
    "library(httr)"
   ]
  },
  {
   "cell_type": "code",
   "execution_count": 5,
   "id": "e8afd673-86c7-41b7-b19f-e17f74dc0f65",
   "metadata": {
    "tags": []
   },
   "outputs": [
    {
     "name": "stderr",
     "output_type": "stream",
     "text": [
      "\u001b[1mRows: \u001b[22m\u001b[34m536\u001b[39m \u001b[1mColumns: \u001b[22m\u001b[34m122\u001b[39m\n",
      "\u001b[36m──\u001b[39m \u001b[1mColumn specification\u001b[22m \u001b[36m────────────────────────────────────────────────────────\u001b[39m\n",
      "\u001b[1mDelimiter:\u001b[22m \",\"\n",
      "\u001b[32mdbl\u001b[39m  (121): all, 16-24, 25-54, 55-64, 65+, less_than_hs, high_school, some_c...\n",
      "\u001b[34mdate\u001b[39m   (1): date\n",
      "\n",
      "\u001b[36mℹ\u001b[39m Use `spec()` to retrieve the full column specification for this data.\n",
      "\u001b[36mℹ\u001b[39m Specify the column types or set `show_col_types = FALSE` to quiet this message.\n"
     ]
    },
    {
     "data": {
      "text/html": [
       "<table class=\"dataframe\">\n",
       "<caption>A tibble: 6 × 122</caption>\n",
       "<thead>\n",
       "\t<tr><th scope=col>date</th><th scope=col>all</th><th scope=col>16-24</th><th scope=col>25-54</th><th scope=col>55-64</th><th scope=col>65+</th><th scope=col>less_than_hs</th><th scope=col>high_school</th><th scope=col>some_college</th><th scope=col>bachelor's_degree</th><th scope=col>⋯</th><th scope=col>white_men_16-24</th><th scope=col>white_men_25-54</th><th scope=col>white_men_55-64</th><th scope=col>white_men_65+</th><th scope=col>white_men_less_than_hs</th><th scope=col>white_men_high_school</th><th scope=col>white_men_some_college</th><th scope=col>white_men_bachelor's_degree</th><th scope=col>white_men_advanced_degree</th><th scope=col>population_over_16</th></tr>\n",
       "\t<tr><th scope=col>&lt;date&gt;</th><th scope=col>&lt;dbl&gt;</th><th scope=col>&lt;dbl&gt;</th><th scope=col>&lt;dbl&gt;</th><th scope=col>&lt;dbl&gt;</th><th scope=col>&lt;dbl&gt;</th><th scope=col>&lt;dbl&gt;</th><th scope=col>&lt;dbl&gt;</th><th scope=col>&lt;dbl&gt;</th><th scope=col>&lt;dbl&gt;</th><th scope=col>⋯</th><th scope=col>&lt;dbl&gt;</th><th scope=col>&lt;dbl&gt;</th><th scope=col>&lt;dbl&gt;</th><th scope=col>&lt;dbl&gt;</th><th scope=col>&lt;dbl&gt;</th><th scope=col>&lt;dbl&gt;</th><th scope=col>&lt;dbl&gt;</th><th scope=col>&lt;dbl&gt;</th><th scope=col>&lt;dbl&gt;</th><th scope=col>&lt;dbl&gt;</th></tr>\n",
       "</thead>\n",
       "<tbody>\n",
       "\t<tr><td>2023-07-01</td><td>3.6</td><td>7.8</td><td>3.1</td><td>2.4</td><td>2.7</td><td>7.0</td><td>4.8</td><td>3.4</td><td>2.4</td><td>⋯</td><td>7.0</td><td>2.5</td><td>2.1</td><td>2.4</td><td>7.0</td><td>3.8</td><td>2.8</td><td>2.1</td><td>1.6</td><td>267002000</td></tr>\n",
       "\t<tr><td>2023-06-01</td><td>3.6</td><td>7.8</td><td>3.1</td><td>2.4</td><td>2.8</td><td>7.1</td><td>4.8</td><td>3.4</td><td>2.4</td><td>⋯</td><td>7.0</td><td>2.5</td><td>2.1</td><td>2.5</td><td>7.0</td><td>3.8</td><td>2.9</td><td>2.1</td><td>1.6</td><td>266801000</td></tr>\n",
       "\t<tr><td>2023-05-01</td><td>3.6</td><td>7.9</td><td>3.0</td><td>2.4</td><td>2.8</td><td>7.1</td><td>4.8</td><td>3.4</td><td>2.4</td><td>⋯</td><td>7.0</td><td>2.5</td><td>2.1</td><td>2.5</td><td>6.9</td><td>3.8</td><td>2.9</td><td>2.1</td><td>1.6</td><td>266618000</td></tr>\n",
       "\t<tr><td>2023-04-01</td><td>3.6</td><td>7.9</td><td>3.0</td><td>2.4</td><td>2.8</td><td>7.1</td><td>4.8</td><td>3.4</td><td>2.4</td><td>⋯</td><td>7.0</td><td>2.5</td><td>2.2</td><td>2.5</td><td>6.9</td><td>3.8</td><td>2.9</td><td>2.1</td><td>1.6</td><td>266443000</td></tr>\n",
       "\t<tr><td>2023-03-01</td><td>3.6</td><td>8.0</td><td>3.0</td><td>2.5</td><td>2.8</td><td>7.1</td><td>4.8</td><td>3.5</td><td>2.4</td><td>⋯</td><td>7.1</td><td>2.5</td><td>2.2</td><td>2.5</td><td>6.8</td><td>3.9</td><td>2.9</td><td>2.1</td><td>1.7</td><td>266272000</td></tr>\n",
       "\t<tr><td>2023-02-01</td><td>3.6</td><td>8.1</td><td>3.0</td><td>2.4</td><td>2.9</td><td>7.2</td><td>4.8</td><td>3.5</td><td>2.4</td><td>⋯</td><td>7.2</td><td>2.5</td><td>2.2</td><td>2.6</td><td>6.8</td><td>3.9</td><td>2.9</td><td>2.1</td><td>1.7</td><td>266112000</td></tr>\n",
       "</tbody>\n",
       "</table>\n"
      ],
      "text/latex": [
       "A tibble: 6 × 122\n",
       "\\begin{tabular}{lllllllllllllllllllll}\n",
       " date & all & 16-24 & 25-54 & 55-64 & 65+ & less\\_than\\_hs & high\\_school & some\\_college & bachelor's\\_degree & ⋯ & white\\_men\\_16-24 & white\\_men\\_25-54 & white\\_men\\_55-64 & white\\_men\\_65+ & white\\_men\\_less\\_than\\_hs & white\\_men\\_high\\_school & white\\_men\\_some\\_college & white\\_men\\_bachelor's\\_degree & white\\_men\\_advanced\\_degree & population\\_over\\_16\\\\\n",
       " <date> & <dbl> & <dbl> & <dbl> & <dbl> & <dbl> & <dbl> & <dbl> & <dbl> & <dbl> & ⋯ & <dbl> & <dbl> & <dbl> & <dbl> & <dbl> & <dbl> & <dbl> & <dbl> & <dbl> & <dbl>\\\\\n",
       "\\hline\n",
       "\t 2023-07-01 & 3.6 & 7.8 & 3.1 & 2.4 & 2.7 & 7.0 & 4.8 & 3.4 & 2.4 & ⋯ & 7.0 & 2.5 & 2.1 & 2.4 & 7.0 & 3.8 & 2.8 & 2.1 & 1.6 & 267002000\\\\\n",
       "\t 2023-06-01 & 3.6 & 7.8 & 3.1 & 2.4 & 2.8 & 7.1 & 4.8 & 3.4 & 2.4 & ⋯ & 7.0 & 2.5 & 2.1 & 2.5 & 7.0 & 3.8 & 2.9 & 2.1 & 1.6 & 266801000\\\\\n",
       "\t 2023-05-01 & 3.6 & 7.9 & 3.0 & 2.4 & 2.8 & 7.1 & 4.8 & 3.4 & 2.4 & ⋯ & 7.0 & 2.5 & 2.1 & 2.5 & 6.9 & 3.8 & 2.9 & 2.1 & 1.6 & 266618000\\\\\n",
       "\t 2023-04-01 & 3.6 & 7.9 & 3.0 & 2.4 & 2.8 & 7.1 & 4.8 & 3.4 & 2.4 & ⋯ & 7.0 & 2.5 & 2.2 & 2.5 & 6.9 & 3.8 & 2.9 & 2.1 & 1.6 & 266443000\\\\\n",
       "\t 2023-03-01 & 3.6 & 8.0 & 3.0 & 2.5 & 2.8 & 7.1 & 4.8 & 3.5 & 2.4 & ⋯ & 7.1 & 2.5 & 2.2 & 2.5 & 6.8 & 3.9 & 2.9 & 2.1 & 1.7 & 266272000\\\\\n",
       "\t 2023-02-01 & 3.6 & 8.1 & 3.0 & 2.4 & 2.9 & 7.2 & 4.8 & 3.5 & 2.4 & ⋯ & 7.2 & 2.5 & 2.2 & 2.6 & 6.8 & 3.9 & 2.9 & 2.1 & 1.7 & 266112000\\\\\n",
       "\\end{tabular}\n"
      ],
      "text/markdown": [
       "\n",
       "A tibble: 6 × 122\n",
       "\n",
       "| date &lt;date&gt; | all &lt;dbl&gt; | 16-24 &lt;dbl&gt; | 25-54 &lt;dbl&gt; | 55-64 &lt;dbl&gt; | 65+ &lt;dbl&gt; | less_than_hs &lt;dbl&gt; | high_school &lt;dbl&gt; | some_college &lt;dbl&gt; | bachelor's_degree &lt;dbl&gt; | ⋯ ⋯ | white_men_16-24 &lt;dbl&gt; | white_men_25-54 &lt;dbl&gt; | white_men_55-64 &lt;dbl&gt; | white_men_65+ &lt;dbl&gt; | white_men_less_than_hs &lt;dbl&gt; | white_men_high_school &lt;dbl&gt; | white_men_some_college &lt;dbl&gt; | white_men_bachelor's_degree &lt;dbl&gt; | white_men_advanced_degree &lt;dbl&gt; | population_over_16 &lt;dbl&gt; |\n",
       "|---|---|---|---|---|---|---|---|---|---|---|---|---|---|---|---|---|---|---|---|---|\n",
       "| 2023-07-01 | 3.6 | 7.8 | 3.1 | 2.4 | 2.7 | 7.0 | 4.8 | 3.4 | 2.4 | ⋯ | 7.0 | 2.5 | 2.1 | 2.4 | 7.0 | 3.8 | 2.8 | 2.1 | 1.6 | 267002000 |\n",
       "| 2023-06-01 | 3.6 | 7.8 | 3.1 | 2.4 | 2.8 | 7.1 | 4.8 | 3.4 | 2.4 | ⋯ | 7.0 | 2.5 | 2.1 | 2.5 | 7.0 | 3.8 | 2.9 | 2.1 | 1.6 | 266801000 |\n",
       "| 2023-05-01 | 3.6 | 7.9 | 3.0 | 2.4 | 2.8 | 7.1 | 4.8 | 3.4 | 2.4 | ⋯ | 7.0 | 2.5 | 2.1 | 2.5 | 6.9 | 3.8 | 2.9 | 2.1 | 1.6 | 266618000 |\n",
       "| 2023-04-01 | 3.6 | 7.9 | 3.0 | 2.4 | 2.8 | 7.1 | 4.8 | 3.4 | 2.4 | ⋯ | 7.0 | 2.5 | 2.2 | 2.5 | 6.9 | 3.8 | 2.9 | 2.1 | 1.6 | 266443000 |\n",
       "| 2023-03-01 | 3.6 | 8.0 | 3.0 | 2.5 | 2.8 | 7.1 | 4.8 | 3.5 | 2.4 | ⋯ | 7.1 | 2.5 | 2.2 | 2.5 | 6.8 | 3.9 | 2.9 | 2.1 | 1.7 | 266272000 |\n",
       "| 2023-02-01 | 3.6 | 8.1 | 3.0 | 2.4 | 2.9 | 7.2 | 4.8 | 3.5 | 2.4 | ⋯ | 7.2 | 2.5 | 2.2 | 2.6 | 6.8 | 3.9 | 2.9 | 2.1 | 1.7 | 266112000 |\n",
       "\n"
      ],
      "text/plain": [
       "  date       all 16-24 25-54 55-64 65+ less_than_hs high_school some_college\n",
       "1 2023-07-01 3.6 7.8   3.1   2.4   2.7 7.0          4.8         3.4         \n",
       "2 2023-06-01 3.6 7.8   3.1   2.4   2.8 7.1          4.8         3.4         \n",
       "3 2023-05-01 3.6 7.9   3.0   2.4   2.8 7.1          4.8         3.4         \n",
       "4 2023-04-01 3.6 7.9   3.0   2.4   2.8 7.1          4.8         3.4         \n",
       "5 2023-03-01 3.6 8.0   3.0   2.5   2.8 7.1          4.8         3.5         \n",
       "6 2023-02-01 3.6 8.1   3.0   2.4   2.9 7.2          4.8         3.5         \n",
       "  bachelor's_degree ⋯ white_men_16-24 white_men_25-54 white_men_55-64\n",
       "1 2.4               ⋯ 7.0             2.5             2.1            \n",
       "2 2.4               ⋯ 7.0             2.5             2.1            \n",
       "3 2.4               ⋯ 7.0             2.5             2.1            \n",
       "4 2.4               ⋯ 7.0             2.5             2.2            \n",
       "5 2.4               ⋯ 7.1             2.5             2.2            \n",
       "6 2.4               ⋯ 7.2             2.5             2.2            \n",
       "  white_men_65+ white_men_less_than_hs white_men_high_school\n",
       "1 2.4           7.0                    3.8                  \n",
       "2 2.5           7.0                    3.8                  \n",
       "3 2.5           6.9                    3.8                  \n",
       "4 2.5           6.9                    3.8                  \n",
       "5 2.5           6.8                    3.9                  \n",
       "6 2.6           6.8                    3.9                  \n",
       "  white_men_some_college white_men_bachelor's_degree white_men_advanced_degree\n",
       "1 2.8                    2.1                         1.6                      \n",
       "2 2.9                    2.1                         1.6                      \n",
       "3 2.9                    2.1                         1.6                      \n",
       "4 2.9                    2.1                         1.6                      \n",
       "5 2.9                    2.1                         1.7                      \n",
       "6 2.9                    2.1                         1.7                      \n",
       "  population_over_16\n",
       "1 267002000         \n",
       "2 266801000         \n",
       "3 266618000         \n",
       "4 266443000         \n",
       "5 266272000         \n",
       "6 266112000         "
      ]
     },
     "metadata": {},
     "output_type": "display_data"
    },
    {
     "data": {
      "text/html": [
       "<table class=\"dataframe\">\n",
       "<caption>A tibble: 6 × 122</caption>\n",
       "<thead>\n",
       "\t<tr><th scope=col>date</th><th scope=col>all</th><th scope=col>16-24</th><th scope=col>25-54</th><th scope=col>55-64</th><th scope=col>65+</th><th scope=col>less_than_hs</th><th scope=col>high_school</th><th scope=col>some_college</th><th scope=col>bachelor's_degree</th><th scope=col>⋯</th><th scope=col>white_men_16-24</th><th scope=col>white_men_25-54</th><th scope=col>white_men_55-64</th><th scope=col>white_men_65+</th><th scope=col>white_men_less_than_hs</th><th scope=col>white_men_high_school</th><th scope=col>white_men_some_college</th><th scope=col>white_men_bachelor's_degree</th><th scope=col>white_men_advanced_degree</th><th scope=col>population_over_16</th></tr>\n",
       "\t<tr><th scope=col>&lt;date&gt;</th><th scope=col>&lt;dbl&gt;</th><th scope=col>&lt;dbl&gt;</th><th scope=col>&lt;dbl&gt;</th><th scope=col>&lt;dbl&gt;</th><th scope=col>&lt;dbl&gt;</th><th scope=col>&lt;dbl&gt;</th><th scope=col>&lt;dbl&gt;</th><th scope=col>&lt;dbl&gt;</th><th scope=col>&lt;dbl&gt;</th><th scope=col>⋯</th><th scope=col>&lt;dbl&gt;</th><th scope=col>&lt;dbl&gt;</th><th scope=col>&lt;dbl&gt;</th><th scope=col>&lt;dbl&gt;</th><th scope=col>&lt;dbl&gt;</th><th scope=col>&lt;dbl&gt;</th><th scope=col>&lt;dbl&gt;</th><th scope=col>&lt;dbl&gt;</th><th scope=col>&lt;dbl&gt;</th><th scope=col>&lt;dbl&gt;</th></tr>\n",
       "</thead>\n",
       "<tbody>\n",
       "\t<tr><td>1979-05-01</td><td>5.9</td><td>11.9</td><td>4.2</td><td>2.8</td><td>3.7</td><td> 9.9</td><td>5.3</td><td>4.9</td><td>2.9</td><td>⋯</td><td>9.4</td><td>2.8</td><td>2.3</td><td>3.4</td><td>7.6</td><td>3.8</td><td>3.6</td><td>2.0</td><td>1.3</td><td>164459000</td></tr>\n",
       "\t<tr><td>1979-04-01</td><td>5.9</td><td>11.9</td><td>4.2</td><td>2.8</td><td>3.7</td><td> 9.9</td><td>5.4</td><td>4.9</td><td>3.0</td><td>⋯</td><td>9.4</td><td>2.8</td><td>2.3</td><td>3.5</td><td>7.5</td><td>3.8</td><td>3.6</td><td>2.0</td><td>1.3</td><td>164162000</td></tr>\n",
       "\t<tr><td>1979-03-01</td><td>6.0</td><td>12.0</td><td>4.3</td><td>2.8</td><td>3.8</td><td> 9.9</td><td>5.4</td><td>4.9</td><td>3.0</td><td>⋯</td><td>9.4</td><td>2.8</td><td>2.4</td><td>3.5</td><td>7.5</td><td>3.8</td><td>3.6</td><td>2.1</td><td>1.3</td><td>164027000</td></tr>\n",
       "\t<tr><td>1979-02-01</td><td>6.0</td><td>12.2</td><td>4.3</td><td>2.8</td><td>3.8</td><td> 9.9</td><td>5.4</td><td>5.0</td><td>3.0</td><td>⋯</td><td>9.6</td><td>2.8</td><td>2.4</td><td>3.5</td><td>7.6</td><td>3.9</td><td>3.6</td><td>2.1</td><td>1.4</td><td>163726000</td></tr>\n",
       "\t<tr><td>1979-01-01</td><td>6.1</td><td>12.3</td><td>4.3</td><td>2.9</td><td>3.7</td><td>10.0</td><td>5.5</td><td>5.0</td><td>3.1</td><td>⋯</td><td>9.7</td><td>2.9</td><td>2.5</td><td>3.5</td><td>7.6</td><td>3.9</td><td>3.7</td><td>2.1</td><td>1.4</td><td>163516000</td></tr>\n",
       "\t<tr><td>1978-12-01</td><td>6.1</td><td>12.4</td><td>4.3</td><td>2.9</td><td>3.8</td><td>10.0</td><td>5.5</td><td>5.0</td><td>3.1</td><td>⋯</td><td>9.7</td><td>2.9</td><td>2.5</td><td>3.6</td><td>7.6</td><td>4.0</td><td>3.7</td><td>2.1</td><td>1.4</td><td>163272000</td></tr>\n",
       "</tbody>\n",
       "</table>\n"
      ],
      "text/latex": [
       "A tibble: 6 × 122\n",
       "\\begin{tabular}{lllllllllllllllllllll}\n",
       " date & all & 16-24 & 25-54 & 55-64 & 65+ & less\\_than\\_hs & high\\_school & some\\_college & bachelor's\\_degree & ⋯ & white\\_men\\_16-24 & white\\_men\\_25-54 & white\\_men\\_55-64 & white\\_men\\_65+ & white\\_men\\_less\\_than\\_hs & white\\_men\\_high\\_school & white\\_men\\_some\\_college & white\\_men\\_bachelor's\\_degree & white\\_men\\_advanced\\_degree & population\\_over\\_16\\\\\n",
       " <date> & <dbl> & <dbl> & <dbl> & <dbl> & <dbl> & <dbl> & <dbl> & <dbl> & <dbl> & ⋯ & <dbl> & <dbl> & <dbl> & <dbl> & <dbl> & <dbl> & <dbl> & <dbl> & <dbl> & <dbl>\\\\\n",
       "\\hline\n",
       "\t 1979-05-01 & 5.9 & 11.9 & 4.2 & 2.8 & 3.7 &  9.9 & 5.3 & 4.9 & 2.9 & ⋯ & 9.4 & 2.8 & 2.3 & 3.4 & 7.6 & 3.8 & 3.6 & 2.0 & 1.3 & 164459000\\\\\n",
       "\t 1979-04-01 & 5.9 & 11.9 & 4.2 & 2.8 & 3.7 &  9.9 & 5.4 & 4.9 & 3.0 & ⋯ & 9.4 & 2.8 & 2.3 & 3.5 & 7.5 & 3.8 & 3.6 & 2.0 & 1.3 & 164162000\\\\\n",
       "\t 1979-03-01 & 6.0 & 12.0 & 4.3 & 2.8 & 3.8 &  9.9 & 5.4 & 4.9 & 3.0 & ⋯ & 9.4 & 2.8 & 2.4 & 3.5 & 7.5 & 3.8 & 3.6 & 2.1 & 1.3 & 164027000\\\\\n",
       "\t 1979-02-01 & 6.0 & 12.2 & 4.3 & 2.8 & 3.8 &  9.9 & 5.4 & 5.0 & 3.0 & ⋯ & 9.6 & 2.8 & 2.4 & 3.5 & 7.6 & 3.9 & 3.6 & 2.1 & 1.4 & 163726000\\\\\n",
       "\t 1979-01-01 & 6.1 & 12.3 & 4.3 & 2.9 & 3.7 & 10.0 & 5.5 & 5.0 & 3.1 & ⋯ & 9.7 & 2.9 & 2.5 & 3.5 & 7.6 & 3.9 & 3.7 & 2.1 & 1.4 & 163516000\\\\\n",
       "\t 1978-12-01 & 6.1 & 12.4 & 4.3 & 2.9 & 3.8 & 10.0 & 5.5 & 5.0 & 3.1 & ⋯ & 9.7 & 2.9 & 2.5 & 3.6 & 7.6 & 4.0 & 3.7 & 2.1 & 1.4 & 163272000\\\\\n",
       "\\end{tabular}\n"
      ],
      "text/markdown": [
       "\n",
       "A tibble: 6 × 122\n",
       "\n",
       "| date &lt;date&gt; | all &lt;dbl&gt; | 16-24 &lt;dbl&gt; | 25-54 &lt;dbl&gt; | 55-64 &lt;dbl&gt; | 65+ &lt;dbl&gt; | less_than_hs &lt;dbl&gt; | high_school &lt;dbl&gt; | some_college &lt;dbl&gt; | bachelor's_degree &lt;dbl&gt; | ⋯ ⋯ | white_men_16-24 &lt;dbl&gt; | white_men_25-54 &lt;dbl&gt; | white_men_55-64 &lt;dbl&gt; | white_men_65+ &lt;dbl&gt; | white_men_less_than_hs &lt;dbl&gt; | white_men_high_school &lt;dbl&gt; | white_men_some_college &lt;dbl&gt; | white_men_bachelor's_degree &lt;dbl&gt; | white_men_advanced_degree &lt;dbl&gt; | population_over_16 &lt;dbl&gt; |\n",
       "|---|---|---|---|---|---|---|---|---|---|---|---|---|---|---|---|---|---|---|---|---|\n",
       "| 1979-05-01 | 5.9 | 11.9 | 4.2 | 2.8 | 3.7 |  9.9 | 5.3 | 4.9 | 2.9 | ⋯ | 9.4 | 2.8 | 2.3 | 3.4 | 7.6 | 3.8 | 3.6 | 2.0 | 1.3 | 164459000 |\n",
       "| 1979-04-01 | 5.9 | 11.9 | 4.2 | 2.8 | 3.7 |  9.9 | 5.4 | 4.9 | 3.0 | ⋯ | 9.4 | 2.8 | 2.3 | 3.5 | 7.5 | 3.8 | 3.6 | 2.0 | 1.3 | 164162000 |\n",
       "| 1979-03-01 | 6.0 | 12.0 | 4.3 | 2.8 | 3.8 |  9.9 | 5.4 | 4.9 | 3.0 | ⋯ | 9.4 | 2.8 | 2.4 | 3.5 | 7.5 | 3.8 | 3.6 | 2.1 | 1.3 | 164027000 |\n",
       "| 1979-02-01 | 6.0 | 12.2 | 4.3 | 2.8 | 3.8 |  9.9 | 5.4 | 5.0 | 3.0 | ⋯ | 9.6 | 2.8 | 2.4 | 3.5 | 7.6 | 3.9 | 3.6 | 2.1 | 1.4 | 163726000 |\n",
       "| 1979-01-01 | 6.1 | 12.3 | 4.3 | 2.9 | 3.7 | 10.0 | 5.5 | 5.0 | 3.1 | ⋯ | 9.7 | 2.9 | 2.5 | 3.5 | 7.6 | 3.9 | 3.7 | 2.1 | 1.4 | 163516000 |\n",
       "| 1978-12-01 | 6.1 | 12.4 | 4.3 | 2.9 | 3.8 | 10.0 | 5.5 | 5.0 | 3.1 | ⋯ | 9.7 | 2.9 | 2.5 | 3.6 | 7.6 | 4.0 | 3.7 | 2.1 | 1.4 | 163272000 |\n",
       "\n"
      ],
      "text/plain": [
       "  date       all 16-24 25-54 55-64 65+ less_than_hs high_school some_college\n",
       "1 1979-05-01 5.9 11.9  4.2   2.8   3.7  9.9         5.3         4.9         \n",
       "2 1979-04-01 5.9 11.9  4.2   2.8   3.7  9.9         5.4         4.9         \n",
       "3 1979-03-01 6.0 12.0  4.3   2.8   3.8  9.9         5.4         4.9         \n",
       "4 1979-02-01 6.0 12.2  4.3   2.8   3.8  9.9         5.4         5.0         \n",
       "5 1979-01-01 6.1 12.3  4.3   2.9   3.7 10.0         5.5         5.0         \n",
       "6 1978-12-01 6.1 12.4  4.3   2.9   3.8 10.0         5.5         5.0         \n",
       "  bachelor's_degree ⋯ white_men_16-24 white_men_25-54 white_men_55-64\n",
       "1 2.9               ⋯ 9.4             2.8             2.3            \n",
       "2 3.0               ⋯ 9.4             2.8             2.3            \n",
       "3 3.0               ⋯ 9.4             2.8             2.4            \n",
       "4 3.0               ⋯ 9.6             2.8             2.4            \n",
       "5 3.1               ⋯ 9.7             2.9             2.5            \n",
       "6 3.1               ⋯ 9.7             2.9             2.5            \n",
       "  white_men_65+ white_men_less_than_hs white_men_high_school\n",
       "1 3.4           7.6                    3.8                  \n",
       "2 3.5           7.5                    3.8                  \n",
       "3 3.5           7.5                    3.8                  \n",
       "4 3.5           7.6                    3.9                  \n",
       "5 3.5           7.6                    3.9                  \n",
       "6 3.6           7.6                    4.0                  \n",
       "  white_men_some_college white_men_bachelor's_degree white_men_advanced_degree\n",
       "1 3.6                    2.0                         1.3                      \n",
       "2 3.6                    2.0                         1.3                      \n",
       "3 3.6                    2.1                         1.3                      \n",
       "4 3.6                    2.1                         1.4                      \n",
       "5 3.7                    2.1                         1.4                      \n",
       "6 3.7                    2.1                         1.4                      \n",
       "  population_over_16\n",
       "1 164459000         \n",
       "2 164162000         \n",
       "3 164027000         \n",
       "4 163726000         \n",
       "5 163516000         \n",
       "6 163272000         "
      ]
     },
     "metadata": {},
     "output_type": "display_data"
    }
   ],
   "source": [
    "# Reading of CSV file from GitHub\n",
    "test_read <- read_csv(\"https://raw.githubusercontent.com/anjx123/stats201-group-project/main/unemployed_population_1978-12_to_2023-07_original.csv\")\n",
    "head(test_read) # First 6 data\n",
    "tail(test_read) # Last 6 data"
   ]
  },
  {
   "cell_type": "markdown",
   "id": "9d365ff9-e678-47df-897e-3dcfcf1efa29",
   "metadata": {},
   "source": [
    "## Explanation"
   ]
  },
  {
   "cell_type": "code",
   "execution_count": null,
   "id": "89e93186-9f44-48e0-a065-def280451966",
   "metadata": {},
   "outputs": [],
   "source": []
  }
 ],
 "metadata": {
  "kernelspec": {
   "display_name": "R",
   "language": "R",
   "name": "ir"
  },
  "language_info": {
   "codemirror_mode": "r",
   "file_extension": ".r",
   "mimetype": "text/x-r-source",
   "name": "R",
   "pygments_lexer": "r",
   "version": "4.2.3"
  },
  "toc-showmarkdowntxt": true,
  "toc-showtags": true
 },
 "nbformat": 4,
 "nbformat_minor": 5
}
