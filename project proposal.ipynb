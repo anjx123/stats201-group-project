{
 "cells": [
  {
   "cell_type": "code",
   "execution_count": 2,
   "id": "ef4386c0-e148-49ee-8c41-eaf10f8e503c",
   "metadata": {
    "tags": []
   },
   "outputs": [
    {
     "ename": "ERROR",
     "evalue": "Error in parse(text = x, srcfile = src): <text>:1:6: unexpected symbol\n1: Just testing\n         ^\n",
     "output_type": "error",
     "traceback": [
      "Error in parse(text = x, srcfile = src): <text>:1:6: unexpected symbol\n1: Just testing\n         ^\nTraceback:\n"
     ]
    }
   ],
   "source": [
    "Just testing my project proposal\n",
    "\n",
    "\n"
   ]
  },
  {
   "cell_type": "code",
   "execution_count": 4,
   "id": "5f19b1ca-bf7c-472e-82f4-183e3329a02d",
   "metadata": {
    "tags": []
   },
   "outputs": [
    {
     "ename": "ERROR",
     "evalue": "Error in parse(text = x, srcfile = src): <text>:1:3: unexpected symbol\n1: I can\n      ^\n",
     "output_type": "error",
     "traceback": [
      "Error in parse(text = x, srcfile = src): <text>:1:3: unexpected symbol\n1: I can\n      ^\nTraceback:\n"
     ]
    }
   ],
   "source": [
    "I can make changes"
   ]
  }
 ],
 "metadata": {
  "kernelspec": {
   "display_name": "R",
   "language": "R",
   "name": "ir"
  },
  "language_info": {
   "codemirror_mode": "r",
   "file_extension": ".r",
   "mimetype": "text/x-r-source",
   "name": "R",
   "pygments_lexer": "r",
   "version": "4.2.3"
  }
 },
 "nbformat": 4,
 "nbformat_minor": 5
}
