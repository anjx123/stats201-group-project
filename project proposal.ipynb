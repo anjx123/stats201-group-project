{
 "cells": [
  {
   "cell_type": "markdown",
   "id": "5652ac10-1c39-41a1-9227-78d517a28851",
   "metadata": {
    "tags": []
   },
   "source": [
    "# Group Proposal\n",
    "_________________________________________"
   ]
  },
  {
   "cell_type": "markdown",
   "id": "4a1338a1-3f87-4017-985d-2017abbc9ab1",
   "metadata": {
    "tags": []
   },
   "source": [
    "## Pre"
   ]
  },
  {
   "cell_type": "markdown",
   "id": "da05e277-cd7d-4e34-a4f9-697648235bab",
   "metadata": {},
   "source": [
    "## **Introduction**\n",
    "\n",
    "Our project is to research on the unemployment rate between if American Black Men and Women and their education level. The data was obtained from Kaggle at https://www.kaggle.com/datasets/berkeleyearth/climate-change-earth-surface-temperature-data \n"
   ]
  },
  {
   "cell_type": "code",
   "execution_count": 1,
   "id": "53fb02b0-a30f-41ac-8477-a407ea8b1fbd",
   "metadata": {
    "tags": []
   },
   "outputs": [
    {
     "name": "stderr",
     "output_type": "stream",
     "text": [
      "── \u001b[1mAttaching core tidyverse packages\u001b[22m ──────────────────────── tidyverse 2.0.0 ──\n",
      "\u001b[32m✔\u001b[39m \u001b[34mdplyr    \u001b[39m 1.1.3     \u001b[32m✔\u001b[39m \u001b[34mreadr    \u001b[39m 2.1.4\n",
      "\u001b[32m✔\u001b[39m \u001b[34mforcats  \u001b[39m 1.0.0     \u001b[32m✔\u001b[39m \u001b[34mstringr  \u001b[39m 1.5.0\n",
      "\u001b[32m✔\u001b[39m \u001b[34mggplot2  \u001b[39m 3.4.3     \u001b[32m✔\u001b[39m \u001b[34mtibble   \u001b[39m 3.2.1\n",
      "\u001b[32m✔\u001b[39m \u001b[34mlubridate\u001b[39m 1.9.2     \u001b[32m✔\u001b[39m \u001b[34mtidyr    \u001b[39m 1.3.0\n",
      "\u001b[32m✔\u001b[39m \u001b[34mpurrr    \u001b[39m 1.0.1     \n",
      "── \u001b[1mConflicts\u001b[22m ────────────────────────────────────────── tidyverse_conflicts() ──\n",
      "\u001b[31m✖\u001b[39m \u001b[34mdplyr\u001b[39m::\u001b[32mfilter()\u001b[39m    masks \u001b[34mstats\u001b[39m::filter()\n",
      "\u001b[31m✖\u001b[39m \u001b[34mdplyr\u001b[39m::\u001b[32mlag()\u001b[39m       masks \u001b[34mstats\u001b[39m::lag()\n",
      "\u001b[31m✖\u001b[39m \u001b[34mlubridate\u001b[39m::\u001b[32mstamp()\u001b[39m masks \u001b[34mcowplot\u001b[39m::stamp()\n",
      "\u001b[36mℹ\u001b[39m Use the conflicted package (\u001b[3m\u001b[34m<http://conflicted.r-lib.org/>\u001b[39m\u001b[23m) to force all conflicts to become errors\n"
     ]
    }
   ],
   "source": [
    "# Libraries required for the proposal\n",
    "library(cowplot)\n",
    "library(datateachr)\n",
    "library(digest)\n",
    "library(infer)\n",
    "library(repr)\n",
    "library(taxyvr)\n",
    "library(tidyverse) ## ss"
   ]
  },
  {
   "cell_type": "code",
   "execution_count": null,
   "id": "e8afd673-86c7-41b7-b19f-e17f74dc0f65",
   "metadata": {
    "tags": []
   },
   "outputs": [
    {
     "data": {
      "text/html": [
       "'5e+05'"
      ],
      "text/latex": [
       "'5e+05'"
      ],
      "text/markdown": [
       "'5e+05'"
      ],
      "text/plain": [
       "[1] \"5e+05\""
      ]
     },
     "metadata": {},
     "output_type": "display_data"
    }
   ],
   "source": [
    "Sys.setenv(VROOM_CONNECTION_SIZE = 500000)\n",
    "Sys.getenv(\"VROOM_CONNECTION_SIZE\")\n",
    "test_read <- read_csv (\"https://github.com/anjx123/stats201-group-project/blob/main/unemployed_population_1978-12_to_2023-07.csv\")"
   ]
  },
  {
   "cell_type": "code",
   "execution_count": null,
   "id": "983e632a-4afd-4d9e-adf9-4e70cf57263d",
   "metadata": {},
   "outputs": [],
   "source": [
    "abcde................................////........."
   ]
  },
  {
   "cell_type": "code",
   "execution_count": null,
   "id": "89e93186-9f44-48e0-a065-def280451966",
   "metadata": {},
   "outputs": [],
   "source": []
  }
 ],
 "metadata": {
  "kernelspec": {
   "display_name": "R",
   "language": "R",
   "name": "ir"
  },
  "language_info": {
   "codemirror_mode": "r",
   "file_extension": ".r",
   "mimetype": "text/x-r-source",
   "name": "R",
   "pygments_lexer": "r",
   "version": "4.2.3"
  },
  "toc-showmarkdowntxt": true,
  "toc-showtags": true
 },
 "nbformat": 4,
 "nbformat_minor": 5
}
